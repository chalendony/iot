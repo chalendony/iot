{
 "cells": [
  {
   "cell_type": "code",
   "execution_count": 33,
   "metadata": {},
   "outputs": [
    {
     "name": "stderr",
     "output_type": "stream",
     "text": [
      "Using TensorFlow backend.\n"
     ]
    }
   ],
   "source": [
    "import pandas as pd\n",
    "from numpy import array\n",
    "import datetime\n",
    "from keras.models import Sequential\n",
    "from keras.layers import Dense"
   ]
  },
  {
   "cell_type": "code",
   "execution_count": 34,
   "metadata": {},
   "outputs": [
    {
     "data": {
      "text/html": [
       "<div>\n",
       "<style scoped>\n",
       "    .dataframe tbody tr th:only-of-type {\n",
       "        vertical-align: middle;\n",
       "    }\n",
       "\n",
       "    .dataframe tbody tr th {\n",
       "        vertical-align: top;\n",
       "    }\n",
       "\n",
       "    .dataframe thead th {\n",
       "        text-align: right;\n",
       "    }\n",
       "</style>\n",
       "<table border=\"1\" class=\"dataframe\">\n",
       "  <thead>\n",
       "    <tr style=\"text-align: right;\">\n",
       "      <th></th>\n",
       "      <th>datetime</th>\n",
       "      <th>Temp1</th>\n",
       "      <th>Temp2</th>\n",
       "      <th>Temp3</th>\n",
       "      <th>Temp4</th>\n",
       "      <th>Humi1</th>\n",
       "      <th>Humi2</th>\n",
       "      <th>Humi3</th>\n",
       "      <th>Humi4</th>\n",
       "    </tr>\n",
       "  </thead>\n",
       "  <tbody>\n",
       "    <tr>\n",
       "      <th>0</th>\n",
       "      <td>2013-04-14 07:00:00</td>\n",
       "      <td>10.229167</td>\n",
       "      <td>19.600000</td>\n",
       "      <td>22.975000</td>\n",
       "      <td>20.200000</td>\n",
       "      <td>76.000000</td>\n",
       "      <td>42.000000</td>\n",
       "      <td>34.000000</td>\n",
       "      <td>40.000000</td>\n",
       "    </tr>\n",
       "    <tr>\n",
       "      <th>1</th>\n",
       "      <td>2013-04-14 08:00:00</td>\n",
       "      <td>11.390196</td>\n",
       "      <td>19.590196</td>\n",
       "      <td>23.028431</td>\n",
       "      <td>20.199020</td>\n",
       "      <td>75.460784</td>\n",
       "      <td>42.401961</td>\n",
       "      <td>34.392157</td>\n",
       "      <td>40.725490</td>\n",
       "    </tr>\n",
       "    <tr>\n",
       "      <th>2</th>\n",
       "      <td>2013-04-14 09:00:00</td>\n",
       "      <td>13.222772</td>\n",
       "      <td>19.518812</td>\n",
       "      <td>23.630693</td>\n",
       "      <td>20.179208</td>\n",
       "      <td>73.851485</td>\n",
       "      <td>43.000000</td>\n",
       "      <td>34.138614</td>\n",
       "      <td>41.000000</td>\n",
       "    </tr>\n",
       "    <tr>\n",
       "      <th>3</th>\n",
       "      <td>2013-04-14 10:00:00</td>\n",
       "      <td>14.580198</td>\n",
       "      <td>19.624752</td>\n",
       "      <td>23.916832</td>\n",
       "      <td>20.383168</td>\n",
       "      <td>73.049505</td>\n",
       "      <td>43.653465</td>\n",
       "      <td>34.415842</td>\n",
       "      <td>41.881188</td>\n",
       "    </tr>\n",
       "    <tr>\n",
       "      <th>4</th>\n",
       "      <td>2013-04-14 11:00:00</td>\n",
       "      <td>16.541748</td>\n",
       "      <td>19.560194</td>\n",
       "      <td>24.039806</td>\n",
       "      <td>20.441748</td>\n",
       "      <td>72.087379</td>\n",
       "      <td>45.203883</td>\n",
       "      <td>35.436893</td>\n",
       "      <td>42.970874</td>\n",
       "    </tr>\n",
       "  </tbody>\n",
       "</table>\n",
       "</div>"
      ],
      "text/plain": [
       "              datetime      Temp1      Temp2      Temp3      Temp4      Humi1  \\\n",
       "0  2013-04-14 07:00:00  10.229167  19.600000  22.975000  20.200000  76.000000   \n",
       "1  2013-04-14 08:00:00  11.390196  19.590196  23.028431  20.199020  75.460784   \n",
       "2  2013-04-14 09:00:00  13.222772  19.518812  23.630693  20.179208  73.851485   \n",
       "3  2013-04-14 10:00:00  14.580198  19.624752  23.916832  20.383168  73.049505   \n",
       "4  2013-04-14 11:00:00  16.541748  19.560194  24.039806  20.441748  72.087379   \n",
       "\n",
       "       Humi2      Humi3      Humi4  \n",
       "0  42.000000  34.000000  40.000000  \n",
       "1  42.401961  34.392157  40.725490  \n",
       "2  43.000000  34.138614  41.000000  \n",
       "3  43.653465  34.415842  41.881188  \n",
       "4  45.203883  35.436893  42.970874  "
      ]
     },
     "execution_count": 34,
     "metadata": {},
     "output_type": "execute_result"
    }
   ],
   "source": [
    "df = pd.read_csv('/Users/stewarta/repos/iot-htsensor/data/temp_heat.csv')\n",
    "df.head()"
   ]
  },
  {
   "cell_type": "code",
   "execution_count": 35,
   "metadata": {},
   "outputs": [],
   "source": [
    "# ensure timestamp is date time\n",
    "df['datetime'] = pd.to_datetime(df.datetime, errors='coerce')"
   ]
  },
  {
   "cell_type": "code",
   "execution_count": 36,
   "metadata": {},
   "outputs": [],
   "source": [
    "# set the timestamp as index\n",
    "df.set_index('datetime', inplace=True)"
   ]
  },
  {
   "cell_type": "code",
   "execution_count": 37,
   "metadata": {},
   "outputs": [],
   "source": [
    "# create a subset for analysis\n",
    "sensor = 'Temp1'\n",
    "filter = (df.index.year == 2013) & (df.index.month == 4) \n",
    "y = np.array(df[filter][sensor])\n",
    "raw_seq = y[:20]"
   ]
  },
  {
   "cell_type": "code",
   "execution_count": 38,
   "metadata": {},
   "outputs": [],
   "source": [
    "# univariate data preparation\n",
    "\n",
    "# split a univariate sequence into samples\n",
    "def split_sequence(sequence, n_steps):\n",
    "    X, y = list(), list()\n",
    "    for i in range(len(sequence)):\n",
    "        # find the end of this pattern\n",
    "        end_ix = i + n_steps\n",
    "        # check if we are beyond the sequence\n",
    "        if end_ix > len(sequence) - 1:\n",
    "            break\n",
    "        # gather input and output parts of the pattern\n",
    "        seq_x, seq_y = sequence[i:end_ix], sequence[end_ix]\n",
    "        X.append(seq_x)\n",
    "        y.append(seq_y)\n",
    "    return array(X), array(y)\n"
   ]
  },
  {
   "cell_type": "code",
   "execution_count": 39,
   "metadata": {},
   "outputs": [
    {
     "name": "stdout",
     "output_type": "stream",
     "text": [
      "[10.22916667 11.39019608 13.22277228] 14.580198019801974\n",
      "[11.39019608 13.22277228 14.58019802] 16.541747572815535\n",
      "[13.22277228 14.58019802 16.54174757] 17.90396039603961\n",
      "[14.58019802 16.54174757 17.9039604 ] 17.224999999999998\n",
      "[16.54174757 17.9039604  17.225     ] 17.456000000000007\n",
      "[17.9039604 17.225     17.456    ] 17.555445544554445\n",
      "[17.225      17.456      17.55544554] 17.642999999999983\n",
      "[17.456      17.55544554 17.643     ] 17.194059405940585\n",
      "[17.55544554 17.643      17.19405941] 16.41372549019606\n",
      "[17.643      17.19405941 16.41372549] 15.691176470588221\n",
      "[17.19405941 16.41372549 15.69117647] 15.318627450980385\n",
      "[16.41372549 15.69117647 15.31862745] 15.093000000000007\n",
      "[15.69117647 15.31862745 15.093     ] 14.745098039215668\n",
      "[15.31862745 15.093      14.74509804] 14.467000000000018\n",
      "[15.093      14.74509804 14.467     ] 14.272277227722785\n",
      "[14.74509804 14.467      14.27227723] 14.012621359223328\n",
      "[14.467      14.27227723 14.01262136] 13.581372549019632\n"
     ]
    }
   ],
   "source": [
    "# define input sequence\n",
    "# choose a number of time steps\n",
    "n_steps = 3\n",
    "# split into samples\n",
    "X, y = split_sequence(raw_seq, n_steps)\n",
    "# summarize the data\n",
    "for i in range(len(X)):\n",
    "    print(X[i], y[i])"
   ]
  },
  {
   "cell_type": "code",
   "execution_count": 49,
   "metadata": {},
   "outputs": [
    {
     "name": "stdout",
     "output_type": "stream",
     "text": [
      "=======  x train ========\n",
      "[[10.22916667 11.39019608 13.22277228]\n",
      " [11.39019608 13.22277228 14.58019802]\n",
      " [13.22277228 14.58019802 16.54174757]\n",
      " [14.58019802 16.54174757 17.9039604 ]\n",
      " [16.54174757 17.9039604  17.225     ]\n",
      " [17.9039604  17.225      17.456     ]\n",
      " [17.225      17.456      17.55544554]\n",
      " [17.456      17.55544554 17.643     ]\n",
      " [17.55544554 17.643      17.19405941]\n",
      " [17.643      17.19405941 16.41372549]\n",
      " [17.19405941 16.41372549 15.69117647]\n",
      " [16.41372549 15.69117647 15.31862745]\n",
      " [15.69117647 15.31862745 15.093     ]\n",
      " [15.31862745 15.093      14.74509804]\n",
      " [15.093      14.74509804 14.467     ]\n",
      " [14.74509804 14.467      14.27227723]]\n",
      "=======  x test ========\n",
      "[14.467      14.27227723 14.01262136]\n",
      "========= y train ======\n",
      "[14.58019802 16.54174757 17.9039604  17.225      17.456      17.55544554\n",
      " 17.643      17.19405941 16.41372549 15.69117647 15.31862745 15.093\n",
      " 14.74509804 14.467      14.27227723 14.01262136]\n",
      "========= y test ======\n",
      "13.581372549019632\n"
     ]
    }
   ],
   "source": [
    "xtrain = X[0:len(X)-1]\n",
    "xtest = X[-1]\n",
    "\n",
    "ytrain = y[0:len(X)-1]\n",
    "ytest = y[-1]\n",
    "\n",
    "print('=======  x train ========')\n",
    "print(xtrain)\n",
    "print('=======  x test ========')\n",
    "print(xtest)\n",
    "\n",
    "\n",
    "print('========= y train ======')\n",
    "print(ytrain)\n",
    "print('========= y test ======')\n",
    "print(ytest)"
   ]
  },
  {
   "cell_type": "code",
   "execution_count": 54,
   "metadata": {},
   "outputs": [
    {
     "name": "stdout",
     "output_type": "stream",
     "text": [
      "[[13.91739]]\n"
     ]
    }
   ],
   "source": [
    "# define model\n",
    "model = Sequential()\n",
    "model.add(Dense(100, activation='relu', input_dim=n_steps))\n",
    "model.add(Dense(1))\n",
    "model.compile(optimizer='adam', loss='mse')\n",
    "# fit model\n",
    "model.fit(xtrain, ytrain, epochs=2000, verbose=0)\n",
    "# demonstrate prediction\n",
    "x_input = xtest\n",
    "x_input = x_input.reshape((1, n_steps))\n",
    "yhat = model.predict(x_input, verbose=0)\n",
    "print(yhat)"
   ]
  }
 ],
 "metadata": {
  "kernelspec": {
   "display_name": "iot-htsensor",
   "language": "python",
   "name": "iot-htsensor-env"
  },
  "language_info": {
   "codemirror_mode": {
    "name": "ipython",
    "version": 3
   },
   "file_extension": ".py",
   "mimetype": "text/x-python",
   "name": "python",
   "nbconvert_exporter": "python",
   "pygments_lexer": "ipython3",
   "version": "3.6.4"
  },
  "varInspector": {
   "cols": {
    "lenName": 16,
    "lenType": 16,
    "lenVar": 40
   },
   "kernels_config": {
    "python": {
     "delete_cmd_postfix": "",
     "delete_cmd_prefix": "del ",
     "library": "var_list.py",
     "varRefreshCmd": "print(var_dic_list())"
    },
    "r": {
     "delete_cmd_postfix": ") ",
     "delete_cmd_prefix": "rm(",
     "library": "var_list.r",
     "varRefreshCmd": "cat(var_dic_list()) "
    }
   },
   "types_to_exclude": [
    "module",
    "function",
    "builtin_function_or_method",
    "instance",
    "_Feature"
   ],
   "window_display": false
  }
 },
 "nbformat": 4,
 "nbformat_minor": 2
}
