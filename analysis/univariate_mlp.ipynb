{
 "cells": [
  {
   "cell_type": "markdown",
   "metadata": {},
   "source": [
    "# MLP that predicts a single observation from univariate data"
   ]
  },
  {
   "cell_type": "code",
   "execution_count": 2,
   "metadata": {},
   "outputs": [
    {
     "name": "stderr",
     "output_type": "stream",
     "text": [
      "Using TensorFlow backend.\n"
     ]
    }
   ],
   "source": [
    "import pandas as pd\n",
    "from numpy import array\n",
    "import datetime\n",
    "from keras.models import Sequential\n",
    "from keras.layers import Dense"
   ]
  },
  {
   "cell_type": "markdown",
   "metadata": {},
   "source": [
    "## Load Official Weather Data Observations"
   ]
  },
  {
   "cell_type": "code",
   "execution_count": 19,
   "metadata": {},
   "outputs": [
    {
     "data": {
      "text/html": [
       "<div>\n",
       "<style scoped>\n",
       "    .dataframe tbody tr th:only-of-type {\n",
       "        vertical-align: middle;\n",
       "    }\n",
       "\n",
       "    .dataframe tbody tr th {\n",
       "        vertical-align: top;\n",
       "    }\n",
       "\n",
       "    .dataframe thead th {\n",
       "        text-align: right;\n",
       "    }\n",
       "</style>\n",
       "<table border=\"1\" class=\"dataframe\">\n",
       "  <thead>\n",
       "    <tr style=\"text-align: right;\">\n",
       "      <th></th>\n",
       "      <th>D_Temp</th>\n",
       "      <th>D_Humi</th>\n",
       "    </tr>\n",
       "    <tr>\n",
       "      <th>datetime</th>\n",
       "      <th></th>\n",
       "      <th></th>\n",
       "    </tr>\n",
       "  </thead>\n",
       "  <tbody>\n",
       "    <tr>\n",
       "      <th>2013-01-01</th>\n",
       "      <td>6.658333</td>\n",
       "      <td>81.000000</td>\n",
       "    </tr>\n",
       "    <tr>\n",
       "      <th>2013-01-02</th>\n",
       "      <td>5.354167</td>\n",
       "      <td>83.541667</td>\n",
       "    </tr>\n",
       "    <tr>\n",
       "      <th>2013-01-03</th>\n",
       "      <td>7.995833</td>\n",
       "      <td>92.083333</td>\n",
       "    </tr>\n",
       "    <tr>\n",
       "      <th>2013-01-04</th>\n",
       "      <td>8.958333</td>\n",
       "      <td>92.458333</td>\n",
       "    </tr>\n",
       "    <tr>\n",
       "      <th>2013-01-05</th>\n",
       "      <td>7.554167</td>\n",
       "      <td>97.458333</td>\n",
       "    </tr>\n",
       "  </tbody>\n",
       "</table>\n",
       "</div>"
      ],
      "text/plain": [
       "              D_Temp     D_Humi\n",
       "datetime                       \n",
       "2013-01-01  6.658333  81.000000\n",
       "2013-01-02  5.354167  83.541667\n",
       "2013-01-03  7.995833  92.083333\n",
       "2013-01-04  8.958333  92.458333\n",
       "2013-01-05  7.554167  97.458333"
      ]
     },
     "execution_count": 19,
     "metadata": {},
     "output_type": "execute_result"
    }
   ],
   "source": [
    "\n",
    "# parse the DWD dataset and convert date and align with home readings \n",
    "# Format dwd: yyyymmddhh\n",
    "df = pd.read_csv('/Users/stewarta/repos/iot-htsensor/data/produkt_tu_stunde_19510101_20171231_00662.txt', sep=';')\n",
    "\n",
    "# parse date\n",
    "df.insert(2, 'datetime', pd.to_datetime(df['MESS_DATUM'], errors='coerce', format='%Y%m%d%H'))\n",
    "\n",
    "# create index\n",
    "df.set_index('datetime', inplace=True)\n",
    "\n",
    "# extract relevant columns and rename, subset\n",
    "df.rename(columns={'TT_TU':'D_Temp','RF_TU':'D_Humi'}, inplace=True)\n",
    "\n",
    "# filter years\n",
    "filter = (df.index.year >= 2013) & (df.index.year <= 2016) \n",
    "\n",
    "df = df.loc[filter,['D_Temp', 'D_Humi']]\n",
    "\n",
    "step = 'D'\n",
    "df = df.resample(step).mean()\n",
    "\n",
    "\n",
    "# create a subset for analysis\n",
    "sensor = 'D_Temp'\n",
    "filter = (df.index.year == 2013) & (df.index.month == 4) \n",
    "y = np.array(df[filter][sensor])\n",
    "raw_seq = y[:20]\n",
    "\n",
    "df.head()"
   ]
  },
  {
   "cell_type": "markdown",
   "metadata": {},
   "source": [
    "## Subset Data"
   ]
  },
  {
   "cell_type": "code",
   "execution_count": 21,
   "metadata": {},
   "outputs": [],
   "source": [
    "# create a subset for analysis\n",
    "sensor = 'D_Temp'\n",
    "filter = (df.index.year == 2013) \n",
    "\n",
    "y = np.array(df[filter][sensor])\n",
    "raw_seq = y[:20]"
   ]
  },
  {
   "cell_type": "markdown",
   "metadata": {},
   "source": [
    "## Split data into sequences "
   ]
  },
  {
   "cell_type": "code",
   "execution_count": 22,
   "metadata": {},
   "outputs": [],
   "source": [
    "# univariate data preparation\n",
    "# split a univariate sequence into samples\n",
    "def split_sequence(sequence, n_steps):\n",
    "    X, y = list(), list()\n",
    "    for i in range(len(sequence)):\n",
    "        # find the end of this pattern\n",
    "        end_ix = i + n_steps\n",
    "        # check if we are beyond the sequence\n",
    "        if end_ix > len(sequence) - 1:\n",
    "            break\n",
    "        # gather input and output parts of the pattern\n",
    "        seq_x, seq_y = sequence[i:end_ix], sequence[end_ix]\n",
    "        X.append(seq_x)\n",
    "        y.append(seq_y)\n",
    "    return array(X), array(y)\n"
   ]
  },
  {
   "cell_type": "markdown",
   "metadata": {},
   "source": [
    "## Build Train and Test Set"
   ]
  },
  {
   "cell_type": "code",
   "execution_count": 26,
   "metadata": {},
   "outputs": [
    {
     "name": "stdout",
     "output_type": "stream",
     "text": [
      "[6.65833333 5.35416667 7.99583333] 8.958333333333332\n",
      "[5.35416667 7.99583333 8.95833333] 7.554166666666668\n",
      "[7.99583333 8.95833333 7.55416667] 6.929166666666666\n",
      "[8.95833333 7.55416667 6.92916667] 5.737499999999998\n",
      "[7.55416667 6.92916667 5.7375    ] 6.320833333333334\n",
      "[6.92916667 5.7375     6.32083333] 6.279166666666666\n",
      "[5.7375     6.32083333 6.27916667] 2.858333333333333\n",
      "[6.32083333 6.27916667 2.85833333] -0.9625\n",
      "[ 6.27916667  2.85833333 -0.9625    ] -2.8708333333333336\n",
      "[ 2.85833333 -0.9625     -2.87083333] -2.5541666666666667\n",
      "[-0.9625     -2.87083333 -2.55416667] -4.216666666666668\n",
      "[-2.87083333 -2.55416667 -4.21666667] -5.512499999999999\n",
      "[-2.55416667 -4.21666667 -5.5125    ] -3.766666666666666\n",
      "[-4.21666667 -5.5125     -3.76666667] -2.0999999999999996\n",
      "[-5.5125     -3.76666667 -2.1       ] -2.8166666666666664\n",
      "[-3.76666667 -2.1        -2.81666667] -5.954166666666667\n",
      "[-2.1        -2.81666667 -5.95416667] -5.7749999999999995\n"
     ]
    }
   ],
   "source": [
    "# define input sequence\n",
    "# choose a number of time steps\n",
    "n_steps = 3\n",
    "# split into samples\n",
    "X, y = split_sequence(raw_seq, n_steps)\n",
    "# summarize the data\n",
    "for i in range(len(X)):\n",
    "    print(X[i], y[i])"
   ]
  },
  {
   "cell_type": "code",
   "execution_count": 24,
   "metadata": {},
   "outputs": [
    {
     "name": "stdout",
     "output_type": "stream",
     "text": [
      "=======  x train ========\n",
      "[[ 6.65833333  5.35416667  7.99583333]\n",
      " [ 5.35416667  7.99583333  8.95833333]\n",
      " [ 7.99583333  8.95833333  7.55416667]\n",
      " [ 8.95833333  7.55416667  6.92916667]\n",
      " [ 7.55416667  6.92916667  5.7375    ]\n",
      " [ 6.92916667  5.7375      6.32083333]\n",
      " [ 5.7375      6.32083333  6.27916667]\n",
      " [ 6.32083333  6.27916667  2.85833333]\n",
      " [ 6.27916667  2.85833333 -0.9625    ]\n",
      " [ 2.85833333 -0.9625     -2.87083333]\n",
      " [-0.9625     -2.87083333 -2.55416667]\n",
      " [-2.87083333 -2.55416667 -4.21666667]\n",
      " [-2.55416667 -4.21666667 -5.5125    ]\n",
      " [-4.21666667 -5.5125     -3.76666667]\n",
      " [-5.5125     -3.76666667 -2.1       ]\n",
      " [-3.76666667 -2.1        -2.81666667]]\n",
      "=======  x test ========\n",
      "[-2.1        -2.81666667 -5.95416667]\n",
      "========= y train ======\n",
      "[ 8.95833333  7.55416667  6.92916667  5.7375      6.32083333  6.27916667\n",
      "  2.85833333 -0.9625     -2.87083333 -2.55416667 -4.21666667 -5.5125\n",
      " -3.76666667 -2.1        -2.81666667 -5.95416667]\n",
      "========= y test ======\n",
      "-5.7749999999999995\n"
     ]
    }
   ],
   "source": [
    "xtrain = X[0:len(X)-1]\n",
    "xtest = X[-1]\n",
    "\n",
    "ytrain = y[0:len(X)-1]\n",
    "ytest = y[-1]\n",
    "\n",
    "print('=======  x train ========')\n",
    "print(xtrain)\n",
    "print('========= y train ======')\n",
    "print(ytrain)\n",
    "\n",
    "print('=======  x test ========')\n",
    "print(xtest)\n",
    "\n",
    "print('========= y test ======')\n",
    "print(ytest)"
   ]
  },
  {
   "cell_type": "markdown",
   "metadata": {},
   "source": [
    "## Train and test a model: \n",
    "### First Results: Univariate MLP is not doing so badly; more epochs did not produce better results; running multiple times yields slightly difference results "
   ]
  },
  {
   "cell_type": "code",
   "execution_count": 25,
   "metadata": {},
   "outputs": [
    {
     "name": "stdout",
     "output_type": "stream",
     "text": [
      "[[-5.683259]]\n"
     ]
    }
   ],
   "source": [
    "# define model\n",
    "model = Sequential()\n",
    "model.add(Dense(100, activation='relu', input_dim=n_steps))\n",
    "model.add(Dense(1))\n",
    "model.compile(optimizer='adam', loss='mse')\n",
    "# fit model\n",
    "model.fit(xtrain, ytrain, epochs=2000, verbose=0)\n",
    "# demonstrate prediction\n",
    "x_input = xtest\n",
    "x_input = x_input.reshape((1, n_steps))\n",
    "yhat = model.predict(x_input, verbose=0)\n",
    "print(yhat)"
   ]
  },
  {
   "cell_type": "markdown",
   "metadata": {},
   "source": [
    "## Systematic Evaluation \n",
    "### Parameters : step, epoc"
   ]
  }
 ],
 "metadata": {
  "kernelspec": {
   "display_name": "iot-htsensor",
   "language": "python",
   "name": "iot-htsensor-env"
  },
  "language_info": {
   "codemirror_mode": {
    "name": "ipython",
    "version": 3
   },
   "file_extension": ".py",
   "mimetype": "text/x-python",
   "name": "python",
   "nbconvert_exporter": "python",
   "pygments_lexer": "ipython3",
   "version": "3.6.4"
  },
  "varInspector": {
   "cols": {
    "lenName": 16,
    "lenType": 16,
    "lenVar": 40
   },
   "kernels_config": {
    "python": {
     "delete_cmd_postfix": "",
     "delete_cmd_prefix": "del ",
     "library": "var_list.py",
     "varRefreshCmd": "print(var_dic_list())"
    },
    "r": {
     "delete_cmd_postfix": ") ",
     "delete_cmd_prefix": "rm(",
     "library": "var_list.r",
     "varRefreshCmd": "cat(var_dic_list()) "
    }
   },
   "types_to_exclude": [
    "module",
    "function",
    "builtin_function_or_method",
    "instance",
    "_Feature"
   ],
   "window_display": false
  }
 },
 "nbformat": 4,
 "nbformat_minor": 2
}
