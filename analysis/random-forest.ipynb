{
 "cells": [
  {
   "cell_type": "markdown",
   "metadata": {},
   "source": [
    "# Predicting Season from Temperature and Humidity"
   ]
  },
  {
   "cell_type": "markdown",
   "metadata": {},
   "source": [
    "## Load Data"
   ]
  },
  {
   "cell_type": "code",
   "execution_count": 1,
   "metadata": {},
   "outputs": [
    {
     "name": "stderr",
     "output_type": "stream",
     "text": [
      "Using TensorFlow backend.\n"
     ]
    }
   ],
   "source": [
    "import numpy as np\n",
    "from numpy import polyfit\n",
    "import pandas as pd\n",
    "from sklearn.model_selection import cross_val_score\n",
    "from sklearn.model_selection import KFold\n",
    "from sklearn.model_selection import train_test_split\n",
    "from sklearn.preprocessing import LabelEncoder\n",
    "from sklearn.pipeline import Pipeline\n",
    "import matplotlib.pyplot as plt\n",
    "from bokeh.io import show\n",
    "from bokeh.layouts import column\n",
    "from bokeh.models import ColumnDataSource, RangeTool\n",
    "from bokeh.plotting import figure\n",
    "from plotly.offline import download_plotlyjs, init_notebook_mode, plot, iplot\n",
    "import plotly.plotly as py\n",
    "import plotly.graph_objs as go \n",
    "import plotly\n",
    "\n",
    "from sklearn.utils import shuffle\n",
    "from sklearn.ensemble import RandomForestClassifier\n",
    "from keras.utils import np_utils\n",
    "\n",
    "import scripts.fetch_data as data\n",
    "from scripts.plot import slider_plotly\n"
   ]
  },
  {
   "cell_type": "markdown",
   "metadata": {},
   "source": [
    "## Load Data"
   ]
  },
  {
   "cell_type": "code",
   "execution_count": 2,
   "metadata": {},
   "outputs": [
    {
     "data": {
      "text/html": [
       "<div>\n",
       "<style scoped>\n",
       "    .dataframe tbody tr th:only-of-type {\n",
       "        vertical-align: middle;\n",
       "    }\n",
       "\n",
       "    .dataframe tbody tr th {\n",
       "        vertical-align: top;\n",
       "    }\n",
       "\n",
       "    .dataframe thead th {\n",
       "        text-align: right;\n",
       "    }\n",
       "</style>\n",
       "<table border=\"1\" class=\"dataframe\">\n",
       "  <thead>\n",
       "    <tr style=\"text-align: right;\">\n",
       "      <th></th>\n",
       "      <th>Temp</th>\n",
       "      <th>Humi</th>\n",
       "    </tr>\n",
       "    <tr>\n",
       "      <th>datetime</th>\n",
       "      <th></th>\n",
       "      <th></th>\n",
       "    </tr>\n",
       "  </thead>\n",
       "  <tbody>\n",
       "    <tr>\n",
       "      <th>2013-01-01 00:00:00</th>\n",
       "      <td>8.4</td>\n",
       "      <td>70.0</td>\n",
       "    </tr>\n",
       "    <tr>\n",
       "      <th>2013-01-01 01:00:00</th>\n",
       "      <td>8.4</td>\n",
       "      <td>70.0</td>\n",
       "    </tr>\n",
       "    <tr>\n",
       "      <th>2013-01-01 02:00:00</th>\n",
       "      <td>8.4</td>\n",
       "      <td>69.0</td>\n",
       "    </tr>\n",
       "    <tr>\n",
       "      <th>2013-01-01 03:00:00</th>\n",
       "      <td>8.7</td>\n",
       "      <td>68.0</td>\n",
       "    </tr>\n",
       "    <tr>\n",
       "      <th>2013-01-01 04:00:00</th>\n",
       "      <td>8.5</td>\n",
       "      <td>69.0</td>\n",
       "    </tr>\n",
       "  </tbody>\n",
       "</table>\n",
       "</div>"
      ],
      "text/plain": [
       "                     Temp  Humi\n",
       "datetime                       \n",
       "2013-01-01 00:00:00   8.4  70.0\n",
       "2013-01-01 01:00:00   8.4  70.0\n",
       "2013-01-01 02:00:00   8.4  69.0\n",
       "2013-01-01 03:00:00   8.7  68.0\n",
       "2013-01-01 04:00:00   8.5  69.0"
      ]
     },
     "execution_count": 2,
     "metadata": {},
     "output_type": "execute_result"
    }
   ],
   "source": [
    "df = data.dwd(2013, 2017, '/Users/stewarta/Documents/DATA/htsensor/produkt_tu_stunde_19510101_20171231_00662.txt')\n",
    "df.head()"
   ]
  },
  {
   "cell_type": "code",
   "execution_count": 3,
   "metadata": {},
   "outputs": [
    {
     "data": {
      "text/html": [
       "<div>\n",
       "<style scoped>\n",
       "    .dataframe tbody tr th:only-of-type {\n",
       "        vertical-align: middle;\n",
       "    }\n",
       "\n",
       "    .dataframe tbody tr th {\n",
       "        vertical-align: top;\n",
       "    }\n",
       "\n",
       "    .dataframe thead th {\n",
       "        text-align: right;\n",
       "    }\n",
       "</style>\n",
       "<table border=\"1\" class=\"dataframe\">\n",
       "  <thead>\n",
       "    <tr style=\"text-align: right;\">\n",
       "      <th></th>\n",
       "      <th>Temp</th>\n",
       "      <th>Humi</th>\n",
       "    </tr>\n",
       "    <tr>\n",
       "      <th>datetime</th>\n",
       "      <th></th>\n",
       "      <th></th>\n",
       "    </tr>\n",
       "  </thead>\n",
       "  <tbody>\n",
       "    <tr>\n",
       "      <th>2013-01-31</th>\n",
       "      <td>0.627957</td>\n",
       "      <td>88.754032</td>\n",
       "    </tr>\n",
       "    <tr>\n",
       "      <th>2013-02-28</th>\n",
       "      <td>0.075149</td>\n",
       "      <td>88.358631</td>\n",
       "    </tr>\n",
       "    <tr>\n",
       "      <th>2013-03-31</th>\n",
       "      <td>-0.523118</td>\n",
       "      <td>78.118280</td>\n",
       "    </tr>\n",
       "    <tr>\n",
       "      <th>2013-04-30</th>\n",
       "      <td>8.630972</td>\n",
       "      <td>69.386111</td>\n",
       "    </tr>\n",
       "    <tr>\n",
       "      <th>2013-05-31</th>\n",
       "      <td>12.421505</td>\n",
       "      <td>78.838710</td>\n",
       "    </tr>\n",
       "  </tbody>\n",
       "</table>\n",
       "</div>"
      ],
      "text/plain": [
       "                 Temp       Humi\n",
       "datetime                        \n",
       "2013-01-31   0.627957  88.754032\n",
       "2013-02-28   0.075149  88.358631\n",
       "2013-03-31  -0.523118  78.118280\n",
       "2013-04-30   8.630972  69.386111\n",
       "2013-05-31  12.421505  78.838710"
      ]
     },
     "execution_count": 3,
     "metadata": {},
     "output_type": "execute_result"
    }
   ],
   "source": [
    "df = df.resample('M').mean()\n",
    "df.head()"
   ]
  },
  {
   "cell_type": "code",
   "execution_count": 4,
   "metadata": {},
   "outputs": [
    {
     "data": {
      "text/html": [
       "<script type=\"text/javascript\">window.PlotlyConfig = {MathJaxConfig: 'local'};</script><script type=\"text/javascript\">if (window.MathJax) {MathJax.Hub.Config({SVG: {font: \"STIX-Web\"}});}</script><script>requirejs.config({paths: { 'plotly': ['https://cdn.plot.ly/plotly-latest.min']},});if(!window._Plotly) {require(['plotly'],function(plotly) {window._Plotly=plotly;});}</script>"
      ],
      "text/vnd.plotly.v1+html": [
       "<script type=\"text/javascript\">window.PlotlyConfig = {MathJaxConfig: 'local'};</script><script type=\"text/javascript\">if (window.MathJax) {MathJax.Hub.Config({SVG: {font: \"STIX-Web\"}});}</script><script>requirejs.config({paths: { 'plotly': ['https://cdn.plot.ly/plotly-latest.min']},});if(!window._Plotly) {require(['plotly'],function(plotly) {window._Plotly=plotly;});}</script>"
      ]
     },
     "metadata": {},
     "output_type": "display_data"
    }
   ],
   "source": [
    "plotly.offline.init_notebook_mode(connected=True)"
   ]
  },
  {
   "cell_type": "markdown",
   "metadata": {},
   "source": [
    "## Display Horizon : Bokeh"
   ]
  },
  {
   "cell_type": "code",
   "execution_count": 4,
   "metadata": {},
   "outputs": [
    {
     "data": {
      "text/html": [
       "<script type=\"text/javascript\">window.PlotlyConfig = {MathJaxConfig: 'local'};</script><script type=\"text/javascript\">if (window.MathJax) {MathJax.Hub.Config({SVG: {font: \"STIX-Web\"}});}</script><script>requirejs.config({paths: { 'plotly': ['https://cdn.plot.ly/plotly-latest.min']},});if(!window._Plotly) {require(['plotly'],function(plotly) {window._Plotly=plotly;});}</script>"
      ],
      "text/vnd.plotly.v1+html": [
       "<script type=\"text/javascript\">window.PlotlyConfig = {MathJaxConfig: 'local'};</script><script type=\"text/javascript\">if (window.MathJax) {MathJax.Hub.Config({SVG: {font: \"STIX-Web\"}});}</script><script>requirejs.config({paths: { 'plotly': ['https://cdn.plot.ly/plotly-latest.min']},});if(!window._Plotly) {require(['plotly'],function(plotly) {window._Plotly=plotly;});}</script>"
      ]
     },
     "metadata": {},
     "output_type": "display_data"
    },
    {
     "data": {
      "application/vnd.plotly.v1+json": {
       "config": {
        "linkText": "Export to plot.ly",
        "plotlyServerURL": "https://plot.ly",
        "showLink": false
       },
       "data": [
        {
         "type": "scatter",
         "uid": "0ef20f11-87f7-4da8-9ad9-decd86e25d85",
         "x": [
          "2013-01-31",
          "2013-02-28",
          "2013-03-31",
          "2013-04-30",
          "2013-05-31",
          "2013-06-30",
          "2013-07-31",
          "2013-08-31",
          "2013-09-30",
          "2013-10-31",
          "2013-11-30",
          "2013-12-31",
          "2014-01-31",
          "2014-02-28",
          "2014-03-31",
          "2014-04-30",
          "2014-05-31",
          "2014-06-30",
          "2014-07-31",
          "2014-08-31",
          "2014-09-30",
          "2014-10-31",
          "2014-11-30",
          "2014-12-31",
          "2015-01-31",
          "2015-02-28",
          "2015-03-31",
          "2015-04-30",
          "2015-05-31",
          "2015-06-30",
          "2015-07-31",
          "2015-08-31",
          "2015-09-30",
          "2015-10-31",
          "2015-11-30",
          "2015-12-31",
          "2016-01-31",
          "2016-02-29",
          "2016-03-31",
          "2016-04-30",
          "2016-05-31",
          "2016-06-30",
          "2016-07-31",
          "2016-08-31",
          "2016-09-30",
          "2016-10-31",
          "2016-11-30",
          "2016-12-31",
          "2017-01-31",
          "2017-02-28",
          "2017-03-31",
          "2017-04-30",
          "2017-05-31",
          "2017-06-30",
          "2017-07-31",
          "2017-08-31",
          "2017-09-30",
          "2017-10-31",
          "2017-11-30",
          "2017-12-31"
         ],
         "y": [
          0.627956989247311,
          0.0751488095238096,
          -0.5231182795698931,
          8.630972222222232,
          12.421505376344093,
          16.163749999999993,
          19.641263440860207,
          18.673790322580633,
          13.601111111111113,
          11.450000000000014,
          5.230000000000004,
          5.295967741935484,
          2.0521505376344114,
          5.729315476190476,
          7.446131805157595,
          11.46694444444444,
          12.784811827956986,
          16.1928698752228,
          20.45568022440393,
          16.36639784946237,
          15.66513888888889,
          12.682258064516127,
          7.447361111111105,
          3.285483870967742,
          3.0979838709677416,
          2.0188988095238085,
          5.840591397849462,
          8.706805555555558,
          12.31491935483871,
          15.539166666666675,
          18.924999999999994,
          20.065145228215783,
          13.26472222222221,
          8.599731182795697,
          8.569999999999993,
          8.195962314939436,
          1.0395161290322577,
          3.7724137931034423,
          4.857123655913976,
          8.653472222222222,
          14.624327956989228,
          17.702361111111106,
          19.29596774193551,
          18.27876344086022,
          18.027777777777768,
          9.27025572005384,
          4.376388888888883,
          3.5797043010752643,
          -0.31411290322580665,
          3.2511904761904793,
          7.950000000000004,
          7.998055555555556,
          14.684946236559146,
          17.587361111111104,
          18.039650537634383,
          17.843279569892466,
          13.696111111111117,
          12.251881720430104,
          6.264583333333321,
          4.130510752688168
         ]
        }
       ],
       "layout": {
        "autosize": true,
        "title": {
         "text": "Official Outdoor Observations Braunschweig (City Center) Germany"
        },
        "xaxis": {
         "autorange": false,
         "range": [
          "2014-11-17 09:12:33.4884",
          "2016-01-02 13:32:05.5814"
         ],
         "rangeselector": {
          "buttons": [
           {
            "count": 1,
            "label": "1m",
            "step": "month",
            "stepmode": "backward"
           },
           {
            "count": 6,
            "label": "6m",
            "step": "month",
            "stepmode": "backward"
           },
           {
            "count": 1,
            "label": "YTD",
            "step": "year",
            "stepmode": "todate"
           },
           {
            "count": 1,
            "label": "1y",
            "step": "year",
            "stepmode": "backward"
           },
           {
            "step": "all"
           }
          ]
         },
         "rangeslider": {
          "autorange": true,
          "range": [
           "2013-01-31",
           "2017-12-31"
          ],
          "visible": true,
          "yaxis": {
           "_template": null,
           "rangemode": "match"
          }
         },
         "type": "date"
        },
        "yaxis": {
         "autorange": true,
         "range": [
          -1.6886070853462165,
          21.621169030180255
         ],
         "type": "linear"
        }
       }
      },
      "image/png": "[encoded data removed]",
      "text/html": [
       "<div id=\"d01fb1ec-3355-4556-b1ec-c577a5456323\" style=\"height: 525px; width: 100%;\" class=\"plotly-graph-div\"></div><script type=\"text/javascript\">require([\"plotly\"], function(Plotly) { window.PLOTLYENV=window.PLOTLYENV || {};window.PLOTLYENV.BASE_URL=\"https://plot.ly\";Plotly.newPlot(\"d01fb1ec-3355-4556-b1ec-c577a5456323\", [{\"x\": [\"2013-01-31\", \"2013-02-28\", \"2013-03-31\", \"2013-04-30\", \"2013-05-31\", \"2013-06-30\", \"2013-07-31\", \"2013-08-31\", \"2013-09-30\", \"2013-10-31\", \"2013-11-30\", \"2013-12-31\", \"2014-01-31\", \"2014-02-28\", \"2014-03-31\", \"2014-04-30\", \"2014-05-31\", \"2014-06-30\", \"2014-07-31\", \"2014-08-31\", \"2014-09-30\", \"2014-10-31\", \"2014-11-30\", \"2014-12-31\", \"2015-01-31\", \"2015-02-28\", \"2015-03-31\", \"2015-04-30\", \"2015-05-31\", \"2015-06-30\", \"2015-07-31\", \"2015-08-31\", \"2015-09-30\", \"2015-10-31\", \"2015-11-30\", \"2015-12-31\", \"2016-01-31\", \"2016-02-29\", \"2016-03-31\", \"2016-04-30\", \"2016-05-31\", \"2016-06-30\", \"2016-07-31\", \"2016-08-31\", \"2016-09-30\", \"2016-10-31\", \"2016-11-30\", \"2016-12-31\", \"2017-01-31\", \"2017-02-28\", \"2017-03-31\", \"2017-04-30\", \"2017-05-31\", \"2017-06-30\", \"2017-07-31\", \"2017-08-31\", \"2017-09-30\", \"2017-10-31\", \"2017-11-30\", \"2017-12-31\"], \"y\": [0.627956989247311, 0.0751488095238096, -0.5231182795698931, 8.630972222222232, 12.421505376344093, 16.163749999999993, 19.641263440860207, 18.673790322580633, 13.601111111111113, 11.450000000000014, 5.230000000000004, 5.295967741935484, 2.0521505376344114, 5.729315476190476, 7.446131805157595, 11.46694444444444, 12.784811827956986, 16.1928698752228, 20.45568022440393, 16.36639784946237, 15.66513888888889, 12.682258064516127, 7.447361111111105, 3.285483870967742, 3.0979838709677416, 2.0188988095238085, 5.840591397849462, 8.706805555555558, 12.31491935483871, 15.539166666666675, 18.924999999999994, 20.065145228215783, 13.26472222222221, 8.599731182795697, 8.569999999999993, 8.195962314939436, 1.0395161290322577, 3.7724137931034423, 4.857123655913976, 8.653472222222222, 14.624327956989228, 17.702361111111106, 19.29596774193551, 18.27876344086022, 18.027777777777768, 9.27025572005384, 4.376388888888883, 3.5797043010752643, -0.31411290322580665, 3.2511904761904793, 7.950000000000004, 7.998055555555556, 14.684946236559146, 17.587361111111104, 18.039650537634383, 17.843279569892466, 13.696111111111117, 12.251881720430104, 6.264583333333321, 4.130510752688168], \"type\": \"scatter\", \"uid\": \"3df9f1db-2f9f-45f7-9e55-4ee7a4d5816a\"}], {\"title\": {\"text\": \"Official Outdoor Observations Braunschweig (City Center) Germany\"}, \"xaxis\": {\"rangeselector\": {\"buttons\": [{\"count\": 1, \"label\": \"1m\", \"step\": \"month\", \"stepmode\": \"backward\"}, {\"count\": 6, \"label\": \"6m\", \"step\": \"month\", \"stepmode\": \"backward\"}, {\"count\": 1, \"label\": \"YTD\", \"step\": \"year\", \"stepmode\": \"todate\"}, {\"count\": 1, \"label\": \"1y\", \"step\": \"year\", \"stepmode\": \"backward\"}, {\"step\": \"all\"}]}, \"rangeslider\": {\"visible\": true}, \"type\": \"date\"}}, {\"showLink\": false, \"linkText\": \"Export to plot.ly\", \"plotlyServerURL\": \"https://plot.ly\"})});</script><script type=\"text/javascript\">window.addEventListener(\"resize\", function(){window._Plotly.Plots.resize(document.getElementById(\"d01fb1ec-3355-4556-b1ec-c577a5456323\"));});</script>"
      ],
      "text/vnd.plotly.v1+html": [
       "<div id=\"d01fb1ec-3355-4556-b1ec-c577a5456323\" style=\"height: 525px; width: 100%;\" class=\"plotly-graph-div\"></div><script type=\"text/javascript\">require([\"plotly\"], function(Plotly) { window.PLOTLYENV=window.PLOTLYENV || {};window.PLOTLYENV.BASE_URL=\"https://plot.ly\";Plotly.newPlot(\"d01fb1ec-3355-4556-b1ec-c577a5456323\", [{\"x\": [\"2013-01-31\", \"2013-02-28\", \"2013-03-31\", \"2013-04-30\", \"2013-05-31\", \"2013-06-30\", \"2013-07-31\", \"2013-08-31\", \"2013-09-30\", \"2013-10-31\", \"2013-11-30\", \"2013-12-31\", \"2014-01-31\", \"2014-02-28\", \"2014-03-31\", \"2014-04-30\", \"2014-05-31\", \"2014-06-30\", \"2014-07-31\", \"2014-08-31\", \"2014-09-30\", \"2014-10-31\", \"2014-11-30\", \"2014-12-31\", \"2015-01-31\", \"2015-02-28\", \"2015-03-31\", \"2015-04-30\", \"2015-05-31\", \"2015-06-30\", \"2015-07-31\", \"2015-08-31\", \"2015-09-30\", \"2015-10-31\", \"2015-11-30\", \"2015-12-31\", \"2016-01-31\", \"2016-02-29\", \"2016-03-31\", \"2016-04-30\", \"2016-05-31\", \"2016-06-30\", \"2016-07-31\", \"2016-08-31\", \"2016-09-30\", \"2016-10-31\", \"2016-11-30\", \"2016-12-31\", \"2017-01-31\", \"2017-02-28\", \"2017-03-31\", \"2017-04-30\", \"2017-05-31\", \"2017-06-30\", \"2017-07-31\", \"2017-08-31\", \"2017-09-30\", \"2017-10-31\", \"2017-11-30\", \"2017-12-31\"], \"y\": [0.627956989247311, 0.0751488095238096, -0.5231182795698931, 8.630972222222232, 12.421505376344093, 16.163749999999993, 19.641263440860207, 18.673790322580633, 13.601111111111113, 11.450000000000014, 5.230000000000004, 5.295967741935484, 2.0521505376344114, 5.729315476190476, 7.446131805157595, 11.46694444444444, 12.784811827956986, 16.1928698752228, 20.45568022440393, 16.36639784946237, 15.66513888888889, 12.682258064516127, 7.447361111111105, 3.285483870967742, 3.0979838709677416, 2.0188988095238085, 5.840591397849462, 8.706805555555558, 12.31491935483871, 15.539166666666675, 18.924999999999994, 20.065145228215783, 13.26472222222221, 8.599731182795697, 8.569999999999993, 8.195962314939436, 1.0395161290322577, 3.7724137931034423, 4.857123655913976, 8.653472222222222, 14.624327956989228, 17.702361111111106, 19.29596774193551, 18.27876344086022, 18.027777777777768, 9.27025572005384, 4.376388888888883, 3.5797043010752643, -0.31411290322580665, 3.2511904761904793, 7.950000000000004, 7.998055555555556, 14.684946236559146, 17.587361111111104, 18.039650537634383, 17.843279569892466, 13.696111111111117, 12.251881720430104, 6.264583333333321, 4.130510752688168], \"type\": \"scatter\", \"uid\": \"3df9f1db-2f9f-45f7-9e55-4ee7a4d5816a\"}], {\"title\": {\"text\": \"Official Outdoor Observations Braunschweig (City Center) Germany\"}, \"xaxis\": {\"rangeselector\": {\"buttons\": [{\"count\": 1, \"label\": \"1m\", \"step\": \"month\", \"stepmode\": \"backward\"}, {\"count\": 6, \"label\": \"6m\", \"step\": \"month\", \"stepmode\": \"backward\"}, {\"count\": 1, \"label\": \"YTD\", \"step\": \"year\", \"stepmode\": \"todate\"}, {\"count\": 1, \"label\": \"1y\", \"step\": \"year\", \"stepmode\": \"backward\"}, {\"step\": \"all\"}]}, \"rangeslider\": {\"visible\": true}, \"type\": \"date\"}}, {\"showLink\": false, \"linkText\": \"Export to plot.ly\", \"plotlyServerURL\": \"https://plot.ly\"})});</script><script type=\"text/javascript\">window.addEventListener(\"resize\", function(){window._Plotly.Plots.resize(document.getElementById(\"d01fb1ec-3355-4556-b1ec-c577a5456323\"));});</script>"
      ]
     },
     "metadata": {},
     "output_type": "display_data"
    }
   ],
   "source": [
    "plotly.offline.init_notebook_mode(connected=True)\n",
    "fig = plot.plotly_slider(df, 'Temp' , 'Official Outdoor Observations Braunschweig (City Center) Germany')\n",
    "plotly.offline.iplot(fig)"
   ]
  },
  {
   "cell_type": "code",
   "execution_count": 9,
   "metadata": {},
   "outputs": [],
   "source": [
    "# https://community.plot.ly/t/setting-initial-plot-to-be-a-subset-of-input-data-using-buttons-and-drop-downs/6624/2\n",
    "# https://plot.ly/python/dropdown-widget/#simple-dropdown-widget\n",
    "\n",
    "def slider(df, title):\n",
    "\n",
    "    trace_temp = go.Scatter(x=list(df.index),\n",
    "                            y=list(df.Temp),\n",
    "                            name='Temperature',\n",
    "                            line=dict(color='#3FA65F'))\n",
    "  \n",
    "    trace_humi = go.Scatter(x=list(df.index),\n",
    "                            y=list(df.Humi),\n",
    "                            name='Humidity',\n",
    "                            line=dict(color='#F06A6A'))\n",
    "    \n",
    "    # problem selecting both from beginning\n",
    "    data = [trace_temp]\n",
    "    \n",
    "    # invoke update function get new values of x and y then relayout \n",
    "    updatemenus = list([\n",
    "    dict(\n",
    "        buttons=list([   \n",
    "            dict(label = 'Temperature',\n",
    "                 method = 'update',\n",
    "                 args = [{'y': [df.Temp]},\n",
    "                         {'title': 'Temperature'}]),\n",
    "           \n",
    "             dict(label = 'Humidity',\n",
    "                 method = 'update',\n",
    "                 args = [{'y': [df.Humi]},\n",
    "                         {'title': 'Humidity'}])\n",
    "        ]),\n",
    "        direction = 'down',\n",
    "        pad = {'r': 10, 't': 10},\n",
    "        showactive = True,\n",
    "        xanchor = 'left',\n",
    "        yanchor = 'top'\n",
    "    )\n",
    "])\n",
    "    \n",
    "    \n",
    "    layout = dict(updatemenus=updatemenus,\n",
    "                  title=title,\n",
    "                  xaxis=dict(\n",
    "                      rangeselector=dict(\n",
    "                          buttons=list([\n",
    "                              dict(count=1,\n",
    "                                   label='1m',\n",
    "                                   step='month',\n",
    "                                   stepmode='backward'),\n",
    "                              dict(count=6,\n",
    "                                   label='6m',\n",
    "                                   step='month',\n",
    "                                   stepmode='backward'),\n",
    "                              dict(count=1,\n",
    "                                   label='YTD',\n",
    "                                   step='year',\n",
    "                                   stepmode='todate'),\n",
    "                              dict(count=1,\n",
    "                                   label='1y',\n",
    "                                   step='year',\n",
    "                                   stepmode='backward'),\n",
    "                              dict(step='all')\n",
    "                          ])\n",
    "                      ),\n",
    "                      rangeslider=dict(\n",
    "                          visible=True\n",
    "                      ),\n",
    "                      type='date'\n",
    "                  )\n",
    "              )\n",
    "\n",
    "    fig = dict(data=data, layout=layout)\n",
    "    return fig\n"
   ]
  },
  {
   "cell_type": "code",
   "execution_count": 7,
   "metadata": {},
   "outputs": [
    {
     "data": {
      "application/vnd.plotly.v1+json": {
       "config": {
        "linkText": "Export to plot.ly",
        "plotlyServerURL": "https://plot.ly",
        "showLink": false
       },
       "data": [
        {
         "line": {
          "color": "#3FA65F"
         },
         "name": "Temperature",
         "type": "scatter",
         "uid": "2a8eaa9a-b65f-405d-b7b6-02388b35526e",
         "x": [
          "2013-01-31",
          "2013-02-28",
          "2013-03-31",
          "2013-04-30",
          "2013-05-31",
          "2013-06-30",
          "2013-07-31",
          "2013-08-31",
          "2013-09-30",
          "2013-10-31",
          "2013-11-30",
          "2013-12-31",
          "2014-01-31",
          "2014-02-28",
          "2014-03-31",
          "2014-04-30",
          "2014-05-31",
          "2014-06-30",
          "2014-07-31",
          "2014-08-31",
          "2014-09-30",
          "2014-10-31",
          "2014-11-30",
          "2014-12-31",
          "2015-01-31",
          "2015-02-28",
          "2015-03-31",
          "2015-04-30",
          "2015-05-31",
          "2015-06-30",
          "2015-07-31",
          "2015-08-31",
          "2015-09-30",
          "2015-10-31",
          "2015-11-30",
          "2015-12-31",
          "2016-01-31",
          "2016-02-29",
          "2016-03-31",
          "2016-04-30",
          "2016-05-31",
          "2016-06-30",
          "2016-07-31",
          "2016-08-31",
          "2016-09-30",
          "2016-10-31",
          "2016-11-30",
          "2016-12-31",
          "2017-01-31",
          "2017-02-28",
          "2017-03-31",
          "2017-04-30",
          "2017-05-31",
          "2017-06-30",
          "2017-07-31",
          "2017-08-31",
          "2017-09-30",
          "2017-10-31",
          "2017-11-30",
          "2017-12-31"
         ],
         "y": [
          88.75403225806451,
          88.35863095238095,
          78.11827956989248,
          69.3861111111111,
          78.83870967741936,
          71.95694444444445,
          68.92069892473118,
          67.04838709677419,
          81.6125,
          81.65053763440861,
          88.34444444444445,
          82.52822580645162,
          85.23252688172043,
          76.1860119047619,
          76.64183381088826,
          78.51666666666667,
          76.48118279569893,
          74.24242424242425,
          70.83029453015428,
          75.14516129032258,
          82.90416666666667,
          86.00403225806451,
          86.84444444444445,
          86.70161290322581,
          84.24193548387096,
          83.5,
          76.67069892473118,
          70.77222222222223,
          69.25940860215054,
          69.275,
          70.3010752688172,
          70.4716459197787,
          82.5125,
          88.34811827956989,
          83.7,
          80.53566621803499,
          84.89247311827957,
          80.01436781609195,
          76.8763440860215,
          68.52638888888889,
          67.72446236559139,
          75.72638888888889,
          70.50537634408602,
          71.91397849462365,
          71.15138888888889,
          89.9528936742934,
          86.54444444444445,
          87.08736559139786,
          87.11021505376344,
          81.79315476190476,
          74.67204301075269,
          72.98611111111111,
          74.49059139784946,
          73.95138888888889,
          75.51075268817205,
          74.76612903225806,
          82.05277777777778,
          82.28494623655914,
          86.51666666666667,
          84.08736559139786
         ]
        }
       ],
       "layout": {
        "autosize": true,
        "title": {
         "text": "Humidity Observations Braunschweig (City Center) Germany"
        },
        "updatemenus": [
         {
          "active": 1,
          "buttons": [
           {
            "args": [
             {
              "y": [
               [
                0.627956989247311,
                0.0751488095238096,
                -0.5231182795698931,
                8.630972222222232,
                12.421505376344093,
                16.163749999999993,
                19.641263440860207,
                18.673790322580633,
                13.601111111111113,
                11.450000000000014,
                5.230000000000004,
                5.295967741935484,
                2.0521505376344114,
                5.729315476190476,
                7.446131805157595,
                11.46694444444444,
                12.784811827956986,
                16.1928698752228,
                20.45568022440393,
                16.36639784946237,
                15.66513888888889,
                12.682258064516127,
                7.447361111111105,
                3.285483870967742,
                3.0979838709677416,
                2.0188988095238085,
                5.840591397849462,
                8.706805555555558,
                12.31491935483871,
                15.539166666666675,
                18.924999999999994,
                20.065145228215783,
                13.26472222222221,
                8.599731182795697,
                8.569999999999993,
                8.195962314939436,
                1.0395161290322577,
                3.7724137931034423,
                4.857123655913976,
                8.653472222222222,
                14.624327956989228,
                17.702361111111106,
                19.29596774193551,
                18.27876344086022,
                18.027777777777768,
                9.27025572005384,
                4.376388888888883,
                3.5797043010752643,
                -0.31411290322580665,
                3.2511904761904793,
                7.950000000000004,
                7.998055555555556,
                14.684946236559146,
                17.587361111111104,
                18.039650537634383,
                17.843279569892466,
                13.696111111111117,
                12.251881720430104,
                6.264583333333321,
                4.130510752688168
               ]
              ]
             },
             {
              "title": "Temperature Observations Braunschweig (City Center) Germany"
             }
            ],
            "label": "Temperature",
            "method": "update"
           },
           {
            "args": [
             {
              "y": [
               [
                88.75403225806451,
                88.35863095238095,
                78.11827956989248,
                69.3861111111111,
                78.83870967741936,
                71.95694444444445,
                68.92069892473118,
                67.04838709677419,
                81.6125,
                81.65053763440861,
                88.34444444444445,
                82.52822580645162,
                85.23252688172043,
                76.1860119047619,
                76.64183381088826,
                78.51666666666667,
                76.48118279569893,
                74.24242424242425,
                70.83029453015428,
                75.14516129032258,
                82.90416666666667,
                86.00403225806451,
                86.84444444444445,
                86.70161290322581,
                84.24193548387096,
                83.5,
                76.67069892473118,
                70.77222222222223,
                69.25940860215054,
                69.275,
                70.3010752688172,
                70.4716459197787,
                82.5125,
                88.34811827956989,
                83.7,
                80.53566621803499,
                84.89247311827957,
                80.01436781609195,
                76.8763440860215,
                68.52638888888889,
                67.72446236559139,
                75.72638888888889,
                70.50537634408602,
                71.91397849462365,
                71.15138888888889,
                89.9528936742934,
                86.54444444444445,
                87.08736559139786,
                87.11021505376344,
                81.79315476190476,
                74.67204301075269,
                72.98611111111111,
                74.49059139784946,
                73.95138888888889,
                75.51075268817205,
                74.76612903225806,
                82.05277777777778,
                82.28494623655914,
                86.51666666666667,
                84.08736559139786
               ]
              ]
             },
             {
              "title": "Humidity Observations Braunschweig (City Center) Germany"
             }
            ],
            "label": "Humidity",
            "method": "update"
           }
          ],
          "direction": "down",
          "pad": {
           "r": 10,
           "t": 10
          },
          "showactive": true,
          "xanchor": "left",
          "yanchor": "top"
         }
        ],
        "xaxis": {
         "autorange": true,
         "range": [
          "2013-01-31",
          "2017-12-31"
         ],
         "rangeselector": {
          "buttons": [
           {
            "count": 1,
            "label": "1m",
            "step": "month",
            "stepmode": "backward"
           },
           {
            "count": 6,
            "label": "6m",
            "step": "month",
            "stepmode": "backward"
           },
           {
            "count": 1,
            "label": "YTD",
            "step": "year",
            "stepmode": "todate"
           },
           {
            "count": 1,
            "label": "1y",
            "step": "year",
            "stepmode": "backward"
           },
           {
            "step": "all"
           }
          ]
         },
         "rangeslider": {
          "autorange": true,
          "range": [
           "2013-01-31",
           "2017-12-31"
          ],
          "visible": true,
          "yaxis": {
           "_template": null,
           "rangemode": "match"
          }
         },
         "type": "date"
        },
        "yaxis": {
         "autorange": true,
         "range": [
          65.77591450913424,
          91.22536626193336
         ],
         "type": "linear"
        }
       }
      },
      "image/png": "[encoded data removed]",
      "text/html": [
       "<div id=\"c489587b-da42-4fe9-9287-6763191d7680\" style=\"height: 525px; width: 100%;\" class=\"plotly-graph-div\"></div><script type=\"text/javascript\">require([\"plotly\"], function(Plotly) { window.PLOTLYENV=window.PLOTLYENV || {};window.PLOTLYENV.BASE_URL=\"https://plot.ly\";Plotly.newPlot(\"c489587b-da42-4fe9-9287-6763191d7680\", [{\"line\": {\"color\": \"#3FA65F\"}, \"name\": \"Temperature\", \"x\": [\"2013-01-31\", \"2013-02-28\", \"2013-03-31\", \"2013-04-30\", \"2013-05-31\", \"2013-06-30\", \"2013-07-31\", \"2013-08-31\", \"2013-09-30\", \"2013-10-31\", \"2013-11-30\", \"2013-12-31\", \"2014-01-31\", \"2014-02-28\", \"2014-03-31\", \"2014-04-30\", \"2014-05-31\", \"2014-06-30\", \"2014-07-31\", \"2014-08-31\", \"2014-09-30\", \"2014-10-31\", \"2014-11-30\", \"2014-12-31\", \"2015-01-31\", \"2015-02-28\", \"2015-03-31\", \"2015-04-30\", \"2015-05-31\", \"2015-06-30\", \"2015-07-31\", \"2015-08-31\", \"2015-09-30\", \"2015-10-31\", \"2015-11-30\", \"2015-12-31\", \"2016-01-31\", \"2016-02-29\", \"2016-03-31\", \"2016-04-30\", \"2016-05-31\", \"2016-06-30\", \"2016-07-31\", \"2016-08-31\", \"2016-09-30\", \"2016-10-31\", \"2016-11-30\", \"2016-12-31\", \"2017-01-31\", \"2017-02-28\", \"2017-03-31\", \"2017-04-30\", \"2017-05-31\", \"2017-06-30\", \"2017-07-31\", \"2017-08-31\", \"2017-09-30\", \"2017-10-31\", \"2017-11-30\", \"2017-12-31\"], \"y\": [0.627956989247311, 0.0751488095238096, -0.5231182795698931, 8.630972222222232, 12.421505376344093, 16.163749999999993, 19.641263440860207, 18.673790322580633, 13.601111111111113, 11.450000000000014, 5.230000000000004, 5.295967741935484, 2.0521505376344114, 5.729315476190476, 7.446131805157595, 11.46694444444444, 12.784811827956986, 16.1928698752228, 20.45568022440393, 16.36639784946237, 15.66513888888889, 12.682258064516127, 7.447361111111105, 3.285483870967742, 3.0979838709677416, 2.0188988095238085, 5.840591397849462, 8.706805555555558, 12.31491935483871, 15.539166666666675, 18.924999999999994, 20.065145228215783, 13.26472222222221, 8.599731182795697, 8.569999999999993, 8.195962314939436, 1.0395161290322577, 3.7724137931034423, 4.857123655913976, 8.653472222222222, 14.624327956989228, 17.702361111111106, 19.29596774193551, 18.27876344086022, 18.027777777777768, 9.27025572005384, 4.376388888888883, 3.5797043010752643, -0.31411290322580665, 3.2511904761904793, 7.950000000000004, 7.998055555555556, 14.684946236559146, 17.587361111111104, 18.039650537634383, 17.843279569892466, 13.696111111111117, 12.251881720430104, 6.264583333333321, 4.130510752688168], \"type\": \"scatter\", \"uid\": \"2e1c1704-1333-4ea2-be07-09dffc1b1eb3\"}], {\"title\": {\"text\": \"Observations Braunschweig (City Center) Germany\"}, \"updatemenus\": [{\"buttons\": [{\"args\": [{\"y\": [[0.627956989247311, 0.0751488095238096, -0.5231182795698931, 8.630972222222232, 12.421505376344093, 16.163749999999993, 19.641263440860207, 18.673790322580633, 13.601111111111113, 11.450000000000014, 5.230000000000004, 5.295967741935484, 2.0521505376344114, 5.729315476190476, 7.446131805157595, 11.46694444444444, 12.784811827956986, 16.1928698752228, 20.45568022440393, 16.36639784946237, 15.66513888888889, 12.682258064516127, 7.447361111111105, 3.285483870967742, 3.0979838709677416, 2.0188988095238085, 5.840591397849462, 8.706805555555558, 12.31491935483871, 15.539166666666675, 18.924999999999994, 20.065145228215783, 13.26472222222221, 8.599731182795697, 8.569999999999993, 8.195962314939436, 1.0395161290322577, 3.7724137931034423, 4.857123655913976, 8.653472222222222, 14.624327956989228, 17.702361111111106, 19.29596774193551, 18.27876344086022, 18.027777777777768, 9.27025572005384, 4.376388888888883, 3.5797043010752643, -0.31411290322580665, 3.2511904761904793, 7.950000000000004, 7.998055555555556, 14.684946236559146, 17.587361111111104, 18.039650537634383, 17.843279569892466, 13.696111111111117, 12.251881720430104, 6.264583333333321, 4.130510752688168]]}, {\"title\": \"Temperature Observations Braunschweig (City Center) Germany\"}], \"label\": \"Temperature\", \"method\": \"update\"}, {\"args\": [{\"y\": [[88.75403225806451, 88.35863095238095, 78.11827956989248, 69.3861111111111, 78.83870967741936, 71.95694444444445, 68.92069892473118, 67.04838709677419, 81.6125, 81.65053763440861, 88.34444444444445, 82.52822580645162, 85.23252688172043, 76.1860119047619, 76.64183381088826, 78.51666666666667, 76.48118279569893, 74.24242424242425, 70.83029453015428, 75.14516129032258, 82.90416666666667, 86.00403225806451, 86.84444444444445, 86.70161290322581, 84.24193548387096, 83.5, 76.67069892473118, 70.77222222222223, 69.25940860215054, 69.275, 70.3010752688172, 70.4716459197787, 82.5125, 88.34811827956989, 83.7, 80.53566621803499, 84.89247311827957, 80.01436781609195, 76.8763440860215, 68.52638888888889, 67.72446236559139, 75.72638888888889, 70.50537634408602, 71.91397849462365, 71.15138888888889, 89.9528936742934, 86.54444444444445, 87.08736559139786, 87.11021505376344, 81.79315476190476, 74.67204301075269, 72.98611111111111, 74.49059139784946, 73.95138888888889, 75.51075268817205, 74.76612903225806, 82.05277777777778, 82.28494623655914, 86.51666666666667, 84.08736559139786]]}, {\"title\": \"Humidity Observations Braunschweig (City Center) Germany\"}], \"label\": \"Humidity\", \"method\": \"update\"}], \"direction\": \"down\", \"pad\": {\"r\": 10, \"t\": 10}, \"showactive\": true, \"xanchor\": \"left\", \"yanchor\": \"top\"}], \"xaxis\": {\"rangeselector\": {\"buttons\": [{\"count\": 1, \"label\": \"1m\", \"step\": \"month\", \"stepmode\": \"backward\"}, {\"count\": 6, \"label\": \"6m\", \"step\": \"month\", \"stepmode\": \"backward\"}, {\"count\": 1, \"label\": \"YTD\", \"step\": \"year\", \"stepmode\": \"todate\"}, {\"count\": 1, \"label\": \"1y\", \"step\": \"year\", \"stepmode\": \"backward\"}, {\"step\": \"all\"}]}, \"rangeslider\": {\"visible\": true}, \"type\": \"date\"}}, {\"showLink\": false, \"linkText\": \"Export to plot.ly\", \"plotlyServerURL\": \"https://plot.ly\"})});</script><script type=\"text/javascript\">window.addEventListener(\"resize\", function(){window._Plotly.Plots.resize(document.getElementById(\"c489587b-da42-4fe9-9287-6763191d7680\"));});</script>"
      ],
      "text/vnd.plotly.v1+html": [
       "<div id=\"c489587b-da42-4fe9-9287-6763191d7680\" style=\"height: 525px; width: 100%;\" class=\"plotly-graph-div\"></div><script type=\"text/javascript\">require([\"plotly\"], function(Plotly) { window.PLOTLYENV=window.PLOTLYENV || {};window.PLOTLYENV.BASE_URL=\"https://plot.ly\";Plotly.newPlot(\"c489587b-da42-4fe9-9287-6763191d7680\", [{\"line\": {\"color\": \"#3FA65F\"}, \"name\": \"Temperature\", \"x\": [\"2013-01-31\", \"2013-02-28\", \"2013-03-31\", \"2013-04-30\", \"2013-05-31\", \"2013-06-30\", \"2013-07-31\", \"2013-08-31\", \"2013-09-30\", \"2013-10-31\", \"2013-11-30\", \"2013-12-31\", \"2014-01-31\", \"2014-02-28\", \"2014-03-31\", \"2014-04-30\", \"2014-05-31\", \"2014-06-30\", \"2014-07-31\", \"2014-08-31\", \"2014-09-30\", \"2014-10-31\", \"2014-11-30\", \"2014-12-31\", \"2015-01-31\", \"2015-02-28\", \"2015-03-31\", \"2015-04-30\", \"2015-05-31\", \"2015-06-30\", \"2015-07-31\", \"2015-08-31\", \"2015-09-30\", \"2015-10-31\", \"2015-11-30\", \"2015-12-31\", \"2016-01-31\", \"2016-02-29\", \"2016-03-31\", \"2016-04-30\", \"2016-05-31\", \"2016-06-30\", \"2016-07-31\", \"2016-08-31\", \"2016-09-30\", \"2016-10-31\", \"2016-11-30\", \"2016-12-31\", \"2017-01-31\", \"2017-02-28\", \"2017-03-31\", \"2017-04-30\", \"2017-05-31\", \"2017-06-30\", \"2017-07-31\", \"2017-08-31\", \"2017-09-30\", \"2017-10-31\", \"2017-11-30\", \"2017-12-31\"], \"y\": [0.627956989247311, 0.0751488095238096, -0.5231182795698931, 8.630972222222232, 12.421505376344093, 16.163749999999993, 19.641263440860207, 18.673790322580633, 13.601111111111113, 11.450000000000014, 5.230000000000004, 5.295967741935484, 2.0521505376344114, 5.729315476190476, 7.446131805157595, 11.46694444444444, 12.784811827956986, 16.1928698752228, 20.45568022440393, 16.36639784946237, 15.66513888888889, 12.682258064516127, 7.447361111111105, 3.285483870967742, 3.0979838709677416, 2.0188988095238085, 5.840591397849462, 8.706805555555558, 12.31491935483871, 15.539166666666675, 18.924999999999994, 20.065145228215783, 13.26472222222221, 8.599731182795697, 8.569999999999993, 8.195962314939436, 1.0395161290322577, 3.7724137931034423, 4.857123655913976, 8.653472222222222, 14.624327956989228, 17.702361111111106, 19.29596774193551, 18.27876344086022, 18.027777777777768, 9.27025572005384, 4.376388888888883, 3.5797043010752643, -0.31411290322580665, 3.2511904761904793, 7.950000000000004, 7.998055555555556, 14.684946236559146, 17.587361111111104, 18.039650537634383, 17.843279569892466, 13.696111111111117, 12.251881720430104, 6.264583333333321, 4.130510752688168], \"type\": \"scatter\", \"uid\": \"2e1c1704-1333-4ea2-be07-09dffc1b1eb3\"}], {\"title\": {\"text\": \"Observations Braunschweig (City Center) Germany\"}, \"updatemenus\": [{\"buttons\": [{\"args\": [{\"y\": [[0.627956989247311, 0.0751488095238096, -0.5231182795698931, 8.630972222222232, 12.421505376344093, 16.163749999999993, 19.641263440860207, 18.673790322580633, 13.601111111111113, 11.450000000000014, 5.230000000000004, 5.295967741935484, 2.0521505376344114, 5.729315476190476, 7.446131805157595, 11.46694444444444, 12.784811827956986, 16.1928698752228, 20.45568022440393, 16.36639784946237, 15.66513888888889, 12.682258064516127, 7.447361111111105, 3.285483870967742, 3.0979838709677416, 2.0188988095238085, 5.840591397849462, 8.706805555555558, 12.31491935483871, 15.539166666666675, 18.924999999999994, 20.065145228215783, 13.26472222222221, 8.599731182795697, 8.569999999999993, 8.195962314939436, 1.0395161290322577, 3.7724137931034423, 4.857123655913976, 8.653472222222222, 14.624327956989228, 17.702361111111106, 19.29596774193551, 18.27876344086022, 18.027777777777768, 9.27025572005384, 4.376388888888883, 3.5797043010752643, -0.31411290322580665, 3.2511904761904793, 7.950000000000004, 7.998055555555556, 14.684946236559146, 17.587361111111104, 18.039650537634383, 17.843279569892466, 13.696111111111117, 12.251881720430104, 6.264583333333321, 4.130510752688168]]}, {\"title\": \"Temperature Observations Braunschweig (City Center) Germany\"}], \"label\": \"Temperature\", \"method\": \"update\"}, {\"args\": [{\"y\": [[88.75403225806451, 88.35863095238095, 78.11827956989248, 69.3861111111111, 78.83870967741936, 71.95694444444445, 68.92069892473118, 67.04838709677419, 81.6125, 81.65053763440861, 88.34444444444445, 82.52822580645162, 85.23252688172043, 76.1860119047619, 76.64183381088826, 78.51666666666667, 76.48118279569893, 74.24242424242425, 70.83029453015428, 75.14516129032258, 82.90416666666667, 86.00403225806451, 86.84444444444445, 86.70161290322581, 84.24193548387096, 83.5, 76.67069892473118, 70.77222222222223, 69.25940860215054, 69.275, 70.3010752688172, 70.4716459197787, 82.5125, 88.34811827956989, 83.7, 80.53566621803499, 84.89247311827957, 80.01436781609195, 76.8763440860215, 68.52638888888889, 67.72446236559139, 75.72638888888889, 70.50537634408602, 71.91397849462365, 71.15138888888889, 89.9528936742934, 86.54444444444445, 87.08736559139786, 87.11021505376344, 81.79315476190476, 74.67204301075269, 72.98611111111111, 74.49059139784946, 73.95138888888889, 75.51075268817205, 74.76612903225806, 82.05277777777778, 82.28494623655914, 86.51666666666667, 84.08736559139786]]}, {\"title\": \"Humidity Observations Braunschweig (City Center) Germany\"}], \"label\": \"Humidity\", \"method\": \"update\"}], \"direction\": \"down\", \"pad\": {\"r\": 10, \"t\": 10}, \"showactive\": true, \"xanchor\": \"left\", \"yanchor\": \"top\"}], \"xaxis\": {\"rangeselector\": {\"buttons\": [{\"count\": 1, \"label\": \"1m\", \"step\": \"month\", \"stepmode\": \"backward\"}, {\"count\": 6, \"label\": \"6m\", \"step\": \"month\", \"stepmode\": \"backward\"}, {\"count\": 1, \"label\": \"YTD\", \"step\": \"year\", \"stepmode\": \"todate\"}, {\"count\": 1, \"label\": \"1y\", \"step\": \"year\", \"stepmode\": \"backward\"}, {\"step\": \"all\"}]}, \"rangeslider\": {\"visible\": true}, \"type\": \"date\"}}, {\"showLink\": false, \"linkText\": \"Export to plot.ly\", \"plotlyServerURL\": \"https://plot.ly\"})});</script><script type=\"text/javascript\">window.addEventListener(\"resize\", function(){window._Plotly.Plots.resize(document.getElementById(\"c489587b-da42-4fe9-9287-6763191d7680\"));});</script>"
      ]
     },
     "metadata": {},
     "output_type": "display_data"
    }
   ],
   "source": [
    "fig = slider_plotly(df, 'Observations Braunschweig (City Center) Germany')\n",
    "plotly.offline.iplot(fig, filename='update_dropdown')"
   ]
  },
  {
   "cell_type": "markdown",
   "metadata": {},
   "source": [
    "## Display Horizon Using Bokeh "
   ]
  },
  {
   "cell_type": "code",
   "execution_count": 11,
   "metadata": {},
   "outputs": [],
   "source": [
    "# Change the variable \"col\" to diplay a different column\n",
    "col = 'Humi'\n",
    "\n",
    "dates = df.index.values\n",
    "source = ColumnDataSource(data=dict(date=dates, close=df[col]))\n",
    "\n",
    "p = figure(title= col + \": Official Outdoor Observations Braunschweig (City Center) Germany (2013 - 2016)\" ,\n",
    "           plot_height=300, plot_width=800, tools=\"\", toolbar_location=None,\n",
    "           x_axis_type=\"datetime\", x_axis_location=\"above\",\n",
    "           background_fill_color=\"#efefef\", x_range=(dates[0], dates[df[col].shape[0]-1]))\n",
    "\n",
    "p.line('date', 'close', source=source)\n",
    "p.yaxis.axis_label = 'Celcius'\n",
    "\n",
    "select = figure(title=\"Drag the middle and edges of the selection box to change the range above\",\n",
    "                plot_height=130, plot_width=800, y_range=p.y_range,\n",
    "                x_axis_type=\"datetime\", y_axis_type=None,\n",
    "                tools=\"\", toolbar_location=None, background_fill_color=\"#efefef\")\n",
    "\n",
    "range_tool = RangeTool(x_range=p.x_range)\n",
    "range_tool.overlay.fill_color = \"navy\"\n",
    "range_tool.overlay.fill_alpha = 0.2\n",
    "\n",
    "select.line('date', 'close', source=source)\n",
    "select.ygrid.grid_line_color = None\n",
    "select.add_tools(range_tool)\n",
    "select.toolbar.active_multi = range_tool\n",
    "\n",
    "show(column(p, select))"
   ]
  },
  {
   "cell_type": "markdown",
   "metadata": {},
   "source": [
    "## Infer Target Variables"
   ]
  },
  {
   "cell_type": "code",
   "execution_count": 23,
   "metadata": {},
   "outputs": [
    {
     "data": {
      "text/html": [
       "<div>\n",
       "<style scoped>\n",
       "    .dataframe tbody tr th:only-of-type {\n",
       "        vertical-align: middle;\n",
       "    }\n",
       "\n",
       "    .dataframe tbody tr th {\n",
       "        vertical-align: top;\n",
       "    }\n",
       "\n",
       "    .dataframe thead th {\n",
       "        text-align: right;\n",
       "    }\n",
       "</style>\n",
       "<table border=\"1\" class=\"dataframe\">\n",
       "  <thead>\n",
       "    <tr style=\"text-align: right;\">\n",
       "      <th></th>\n",
       "      <th>Temp</th>\n",
       "      <th>Humi</th>\n",
       "      <th>month</th>\n",
       "      <th>season</th>\n",
       "    </tr>\n",
       "    <tr>\n",
       "      <th>datetime</th>\n",
       "      <th></th>\n",
       "      <th></th>\n",
       "      <th></th>\n",
       "      <th></th>\n",
       "    </tr>\n",
       "  </thead>\n",
       "  <tbody>\n",
       "    <tr>\n",
       "      <th>2010-01-31</th>\n",
       "      <td>-3.879973</td>\n",
       "      <td>86.928763</td>\n",
       "      <td>1</td>\n",
       "      <td>1</td>\n",
       "    </tr>\n",
       "    <tr>\n",
       "      <th>2010-02-28</th>\n",
       "      <td>-0.284673</td>\n",
       "      <td>82.645833</td>\n",
       "      <td>2</td>\n",
       "      <td>1</td>\n",
       "    </tr>\n",
       "    <tr>\n",
       "      <th>2010-03-31</th>\n",
       "      <td>4.991398</td>\n",
       "      <td>75.493280</td>\n",
       "      <td>3</td>\n",
       "      <td>2</td>\n",
       "    </tr>\n",
       "    <tr>\n",
       "      <th>2010-04-30</th>\n",
       "      <td>9.473333</td>\n",
       "      <td>64.016667</td>\n",
       "      <td>4</td>\n",
       "      <td>2</td>\n",
       "    </tr>\n",
       "    <tr>\n",
       "      <th>2010-05-31</th>\n",
       "      <td>10.425134</td>\n",
       "      <td>79.571237</td>\n",
       "      <td>5</td>\n",
       "      <td>2</td>\n",
       "    </tr>\n",
       "  </tbody>\n",
       "</table>\n",
       "</div>"
      ],
      "text/plain": [
       "                 Temp       Humi  month  season\n",
       "datetime                                       \n",
       "2010-01-31  -3.879973  86.928763      1       1\n",
       "2010-02-28  -0.284673  82.645833      2       1\n",
       "2010-03-31   4.991398  75.493280      3       2\n",
       "2010-04-30   9.473333  64.016667      4       2\n",
       "2010-05-31  10.425134  79.571237      5       2"
      ]
     },
     "execution_count": 23,
     "metadata": {},
     "output_type": "execute_result"
    }
   ],
   "source": [
    "#Infer target season \n",
    "#German Seasons\n",
    "#SeasonID; Season Name; Month\n",
    "#2; Spring; March, April, May\n",
    "#3; Summer; June, July, August\n",
    "#4; Autumn; September, October, November\n",
    "#1; Winter; December, January, February\n",
    "#spring = range(3, 5)\n",
    "#summer = range(6, 8)\n",
    "#fall = range(9, 11)\n",
    "def season(month):\n",
    "    if month not in range(1,13):\n",
    "        return np.NaN\n",
    "        #raise Exception('month must be integer value in interval [1...12] inclusive. The value of x was: {}'.format(month))\n",
    "    return (month%12 + 3)//3\n",
    "\n",
    "# if we use the month as a feature, it should be trivial to predict season from month\n",
    "df['month'] = df.index.month\n",
    "\n",
    "# target variable: \n",
    "df['season'] = df.index.to_series().apply(lambda m : season(m.month))\n",
    "df.head()"
   ]
  },
  {
   "cell_type": "code",
   "execution_count": 24,
   "metadata": {},
   "outputs": [
    {
     "data": {
      "text/html": [
       "<div>\n",
       "<style scoped>\n",
       "    .dataframe tbody tr th:only-of-type {\n",
       "        vertical-align: middle;\n",
       "    }\n",
       "\n",
       "    .dataframe tbody tr th {\n",
       "        vertical-align: top;\n",
       "    }\n",
       "\n",
       "    .dataframe thead th {\n",
       "        text-align: right;\n",
       "    }\n",
       "</style>\n",
       "<table border=\"1\" class=\"dataframe\">\n",
       "  <thead>\n",
       "    <tr style=\"text-align: right;\">\n",
       "      <th></th>\n",
       "      <th>Temp</th>\n",
       "      <th>Humi</th>\n",
       "      <th>month</th>\n",
       "      <th>season</th>\n",
       "    </tr>\n",
       "    <tr>\n",
       "      <th>datetime</th>\n",
       "      <th></th>\n",
       "      <th></th>\n",
       "      <th></th>\n",
       "      <th></th>\n",
       "    </tr>\n",
       "  </thead>\n",
       "  <tbody>\n",
       "    <tr>\n",
       "      <th>2014-05-31</th>\n",
       "      <td>12.784812</td>\n",
       "      <td>76.481183</td>\n",
       "      <td>5</td>\n",
       "      <td>2</td>\n",
       "    </tr>\n",
       "    <tr>\n",
       "      <th>2016-02-29</th>\n",
       "      <td>3.772414</td>\n",
       "      <td>80.014368</td>\n",
       "      <td>2</td>\n",
       "      <td>1</td>\n",
       "    </tr>\n",
       "    <tr>\n",
       "      <th>2017-08-31</th>\n",
       "      <td>17.843280</td>\n",
       "      <td>74.766129</td>\n",
       "      <td>8</td>\n",
       "      <td>3</td>\n",
       "    </tr>\n",
       "    <tr>\n",
       "      <th>2010-07-31</th>\n",
       "      <td>21.364785</td>\n",
       "      <td>63.053763</td>\n",
       "      <td>7</td>\n",
       "      <td>3</td>\n",
       "    </tr>\n",
       "    <tr>\n",
       "      <th>2014-07-31</th>\n",
       "      <td>20.455680</td>\n",
       "      <td>70.830295</td>\n",
       "      <td>7</td>\n",
       "      <td>3</td>\n",
       "    </tr>\n",
       "  </tbody>\n",
       "</table>\n",
       "</div>"
      ],
      "text/plain": [
       "                 Temp       Humi  month  season\n",
       "datetime                                       \n",
       "2014-05-31  12.784812  76.481183      5       2\n",
       "2016-02-29   3.772414  80.014368      2       1\n",
       "2017-08-31  17.843280  74.766129      8       3\n",
       "2010-07-31  21.364785  63.053763      7       3\n",
       "2014-07-31  20.455680  70.830295      7       3"
      ]
     },
     "execution_count": 24,
     "metadata": {},
     "output_type": "execute_result"
    }
   ],
   "source": [
    "# seed the data \n",
    "seed = 25\n",
    "# shuffle the data in the dataframe\n",
    "df = shuffle(df, random_state=seed)\n",
    "df.head()"
   ]
  },
  {
   "cell_type": "code",
   "execution_count": 25,
   "metadata": {},
   "outputs": [],
   "source": [
    "# convert integers to dummy variables (i.e. one hot encoded)\n",
    "Y = to_categorical(df.season)\n",
    "#print(Y)"
   ]
  },
  {
   "cell_type": "markdown",
   "metadata": {},
   "source": [
    "## Train on Month "
   ]
  },
  {
   "cell_type": "code",
   "execution_count": 29,
   "metadata": {},
   "outputs": [
    {
     "name": "stdout",
     "output_type": "stream",
     "text": [
      "[0. 0. 0. 0. 0. 1. 0. 0. 0. 0. 0. 0. 0.]\n"
     ]
    }
   ],
   "source": [
    "X = np_utils.to_categorical(df.month)\n",
    "print(X[0])"
   ]
  },
  {
   "cell_type": "code",
   "execution_count": 30,
   "metadata": {},
   "outputs": [
    {
     "name": "stdout",
     "output_type": "stream",
     "text": [
      "[[0. 1. 0. 0. 0.]]\n"
     ]
    }
   ],
   "source": [
    "clf = RandomForestClassifier(n_estimators=200, random_state=0)\n",
    "clf.fit(X, Y)\n",
    "print(clf.predict([[0, 0, 0, 0, 0, 0, 0, 0, 0, 0, 0, 0, 1]]))"
   ]
  },
  {
   "cell_type": "code",
   "execution_count": 26,
   "metadata": {},
   "outputs": [],
   "source": [
    "# evaluate the model\n",
    "kfold = KFold(n_splits=10, shuffle=True, random_state=seed)"
   ]
  },
  {
   "cell_type": "code",
   "execution_count": 73,
   "metadata": {},
   "outputs": [
    {
     "name": "stdout",
     "output_type": "stream",
     "text": [
      "Baseline: 100.00% (0.00%)\n"
     ]
    }
   ],
   "source": [
    "results = cross_val_score(clf, X, Y, cv=kfold)\n",
    "print(\"Baseline: %.2f%% (%.2f%%)\" % (results.mean()*100, results.std()*100))"
   ]
  },
  {
   "cell_type": "markdown",
   "metadata": {},
   "source": [
    "## Train Temp and Humidy"
   ]
  },
  {
   "cell_type": "code",
   "execution_count": 27,
   "metadata": {},
   "outputs": [
    {
     "name": "stdout",
     "output_type": "stream",
     "text": [
      "Baseline: 86.33% (8.17%)\n"
     ]
    }
   ],
   "source": [
    "from sklearn.preprocessing import StandardScaler  \n",
    "scaler = StandardScaler()  \n",
    "\n",
    "df = df.dropna(axis=0)\n",
    "X = df[['Temp','Humi']]\n",
    "scaler.fit(X)  \n",
    "X_train = scaler.transform(X)  \n",
    "Y = np_utils.to_categorical(df.season)\n",
    "\n",
    "clf = RandomForestClassifier(n_estimators=30,  random_state=0)\n",
    "clf.fit(X, Y)\n",
    "\n",
    "results = cross_val_score(clf, X_train, Y, cv=kfold)\n",
    "print(\"Baseline: %.2f%% (%.2f%%)\" % (results.mean()*100, results.std()*100))"
   ]
  }
 ],
 "metadata": {
  "kernelspec": {
   "display_name": "iot-htsensor",
   "language": "python",
   "name": "iot-htsensor-env"
  },
  "language_info": {
   "codemirror_mode": {
    "name": "ipython",
    "version": 3
   },
   "file_extension": ".py",
   "mimetype": "text/x-python",
   "name": "python",
   "nbconvert_exporter": "python",
   "pygments_lexer": "ipython3",
   "version": "3.6.4"
  },
  "varInspector": {
   "cols": {
    "lenName": 16,
    "lenType": 16,
    "lenVar": 40
   },
   "kernels_config": {
    "python": {
     "delete_cmd_postfix": "",
     "delete_cmd_prefix": "del ",
     "library": "var_list.py",
     "varRefreshCmd": "print(var_dic_list())"
    },
    "r": {
     "delete_cmd_postfix": ") ",
     "delete_cmd_prefix": "rm(",
     "library": "var_list.r",
     "varRefreshCmd": "cat(var_dic_list()) "
    }
   },
   "types_to_exclude": [
    "module",
    "function",
    "builtin_function_or_method",
    "instance",
    "_Feature"
   ],
   "window_display": false
  }
 },
 "nbformat": 4,
 "nbformat_minor": 2
}
