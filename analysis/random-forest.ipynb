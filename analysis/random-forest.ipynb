{
 "cells": [
  {
   "cell_type": "code",
   "execution_count": 1,
   "metadata": {},
   "outputs": [],
   "source": [
    "# Predicting Season"
   ]
  },
  {
   "cell_type": "code",
   "execution_count": null,
   "metadata": {
    "collapsed": true
   },
   "outputs": [],
   "source": [
    "## Load Data"
   ]
  },
  {
   "cell_type": "code",
   "execution_count": 21,
   "metadata": {},
   "outputs": [],
   "source": [
    "import numpy as np\n",
    "from numpy import polyfit\n",
    "import pandas as pd\n",
    "from sklearn.model_selection import cross_val_score\n",
    "from sklearn.model_selection import KFold\n",
    "from sklearn.preprocessing import LabelEncoder\n",
    "from sklearn.pipeline import Pipeline\n",
    "import matplotlib.pyplot as plt\n",
    "\n",
    "from bokeh.io import show\n",
    "from bokeh.layouts import column\n",
    "from bokeh.models import ColumnDataSource, RangeTool\n",
    "from bokeh.plotting import figure\n",
    "\n",
    "from sklearn.utils import shuffle\n",
    "from sklearn.ensemble import RandomForestClassifier\n",
    "\n",
    "from keras.utils import np_utils"
   ]
  },
  {
   "cell_type": "markdown",
   "metadata": {},
   "source": [
    "## Load Data"
   ]
  },
  {
   "cell_type": "code",
   "execution_count": 22,
   "metadata": {},
   "outputs": [
    {
     "data": {
      "text/html": [
       "<div>\n",
       "<style scoped>\n",
       "    .dataframe tbody tr th:only-of-type {\n",
       "        vertical-align: middle;\n",
       "    }\n",
       "\n",
       "    .dataframe tbody tr th {\n",
       "        vertical-align: top;\n",
       "    }\n",
       "\n",
       "    .dataframe thead th {\n",
       "        text-align: right;\n",
       "    }\n",
       "</style>\n",
       "<table border=\"1\" class=\"dataframe\">\n",
       "  <thead>\n",
       "    <tr style=\"text-align: right;\">\n",
       "      <th></th>\n",
       "      <th>Temp</th>\n",
       "      <th>Humi</th>\n",
       "    </tr>\n",
       "    <tr>\n",
       "      <th>datetime</th>\n",
       "      <th></th>\n",
       "      <th></th>\n",
       "    </tr>\n",
       "  </thead>\n",
       "  <tbody>\n",
       "    <tr>\n",
       "      <th>2010-01-31</th>\n",
       "      <td>-3.879973</td>\n",
       "      <td>86.928763</td>\n",
       "    </tr>\n",
       "    <tr>\n",
       "      <th>2010-02-28</th>\n",
       "      <td>-0.284673</td>\n",
       "      <td>82.645833</td>\n",
       "    </tr>\n",
       "    <tr>\n",
       "      <th>2010-03-31</th>\n",
       "      <td>4.991398</td>\n",
       "      <td>75.493280</td>\n",
       "    </tr>\n",
       "    <tr>\n",
       "      <th>2010-04-30</th>\n",
       "      <td>9.473333</td>\n",
       "      <td>64.016667</td>\n",
       "    </tr>\n",
       "    <tr>\n",
       "      <th>2010-05-31</th>\n",
       "      <td>10.425134</td>\n",
       "      <td>79.571237</td>\n",
       "    </tr>\n",
       "  </tbody>\n",
       "</table>\n",
       "</div>"
      ],
      "text/plain": [
       "                 Temp       Humi\n",
       "datetime                        \n",
       "2010-01-31  -3.879973  86.928763\n",
       "2010-02-28  -0.284673  82.645833\n",
       "2010-03-31   4.991398  75.493280\n",
       "2010-04-30   9.473333  64.016667\n",
       "2010-05-31  10.425134  79.571237"
      ]
     },
     "execution_count": 22,
     "metadata": {},
     "output_type": "execute_result"
    }
   ],
   "source": [
    "# fix random seed for reproducibility\n",
    "seed = 7\n",
    "numpy.random.seed(seed)\n",
    "\n",
    "# parse the DWD dataset and convert date and align with home readings \n",
    "# Format dwd: yyyymmddhh\n",
    "df = pd.read_csv('/Users/stewarta/Documents/DATA/htsensor/produkt_tu_stunde_19510101_20171231_00662.txt', sep=';')\n",
    "# select relevant columns\n",
    "df = df[['MESS_DATUM', 'TT_TU', 'RF_TU']]\n",
    "# rename\n",
    "df.rename(columns={'TT_TU':'Temp','RF_TU':'Humi'}, inplace=True)\n",
    "\n",
    "# parse date\n",
    "df.insert(2, 'datetime', pd.to_datetime(df['MESS_DATUM'], errors='coerce', format='%Y%m%d%H'))\n",
    "\n",
    "# humidity can not be less than 0\n",
    "outliers = df[df.Humi < 0].index\n",
    "df.drop(outliers, axis=0, inplace=True)\n",
    "df.dropna(axis = 0, inplace=True)\n",
    "\n",
    "# fill in missing values\n",
    "df[['Temp', 'Humi']] = df[['Temp', 'Humi']].fillna(df.mean())\n",
    "\n",
    "# something is not working with fillna\n",
    "df.dropna(axis=0, inplace=True)\n",
    "\n",
    "# create index\n",
    "df.set_index('datetime', inplace=True)\n",
    "df.drop('MESS_DATUM', axis = 1, inplace=True)\n",
    "\n",
    "# filter years\n",
    "filter = (df.index.year >= 2010) & (df.index.year <= 2017) \n",
    "\n",
    "# filter columns\n",
    "df = df.loc[filter,['Temp', 'Humi']]\n",
    "\n",
    "# resample\n",
    "frequency = 'M'\n",
    "df = df.resample(frequency).mean()\n",
    "\n",
    "df.head()"
   ]
  },
  {
   "cell_type": "markdown",
   "metadata": {},
   "source": [
    "## Display Horizon Chart "
   ]
  },
  {
   "cell_type": "code",
   "execution_count": 3,
   "metadata": {},
   "outputs": [],
   "source": [
    "# Change the variable \"col\" to diplay a different column\n",
    "col = 'Humi'\n",
    "\n",
    "dates = df.index.values\n",
    "source = ColumnDataSource(data=dict(date=dates, close=df[col]))\n",
    "\n",
    "p = figure(title= col + \": Official Outdoor Observations Braunschweig (City Center) Germany (2013 - 2016)\" ,\n",
    "           plot_height=300, plot_width=800, tools=\"\", toolbar_location=None,\n",
    "           x_axis_type=\"datetime\", x_axis_location=\"above\",\n",
    "           background_fill_color=\"#efefef\", x_range=(dates[0], dates[df[col].shape[0]-1]))\n",
    "\n",
    "p.line('date', 'close', source=source)\n",
    "p.yaxis.axis_label = 'Celcius'\n",
    "\n",
    "select = figure(title=\"Drag the middle and edges of the selection box to change the range above\",\n",
    "                plot_height=130, plot_width=800, y_range=p.y_range,\n",
    "                x_axis_type=\"datetime\", y_axis_type=None,\n",
    "                tools=\"\", toolbar_location=None, background_fill_color=\"#efefef\")\n",
    "\n",
    "range_tool = RangeTool(x_range=p.x_range)\n",
    "range_tool.overlay.fill_color = \"navy\"\n",
    "range_tool.overlay.fill_alpha = 0.2\n",
    "\n",
    "select.line('date', 'close', source=source)\n",
    "select.ygrid.grid_line_color = None\n",
    "select.add_tools(range_tool)\n",
    "select.toolbar.active_multi = range_tool\n",
    "\n",
    "show(column(p, select))"
   ]
  },
  {
   "cell_type": "markdown",
   "metadata": {},
   "source": [
    "## Infer Target Variables"
   ]
  },
  {
   "cell_type": "code",
   "execution_count": 23,
   "metadata": {},
   "outputs": [
    {
     "data": {
      "text/html": [
       "<div>\n",
       "<style scoped>\n",
       "    .dataframe tbody tr th:only-of-type {\n",
       "        vertical-align: middle;\n",
       "    }\n",
       "\n",
       "    .dataframe tbody tr th {\n",
       "        vertical-align: top;\n",
       "    }\n",
       "\n",
       "    .dataframe thead th {\n",
       "        text-align: right;\n",
       "    }\n",
       "</style>\n",
       "<table border=\"1\" class=\"dataframe\">\n",
       "  <thead>\n",
       "    <tr style=\"text-align: right;\">\n",
       "      <th></th>\n",
       "      <th>Temp</th>\n",
       "      <th>Humi</th>\n",
       "      <th>month</th>\n",
       "      <th>season</th>\n",
       "    </tr>\n",
       "    <tr>\n",
       "      <th>datetime</th>\n",
       "      <th></th>\n",
       "      <th></th>\n",
       "      <th></th>\n",
       "      <th></th>\n",
       "    </tr>\n",
       "  </thead>\n",
       "  <tbody>\n",
       "    <tr>\n",
       "      <th>2010-01-31</th>\n",
       "      <td>-3.879973</td>\n",
       "      <td>86.928763</td>\n",
       "      <td>1</td>\n",
       "      <td>1</td>\n",
       "    </tr>\n",
       "    <tr>\n",
       "      <th>2010-02-28</th>\n",
       "      <td>-0.284673</td>\n",
       "      <td>82.645833</td>\n",
       "      <td>2</td>\n",
       "      <td>1</td>\n",
       "    </tr>\n",
       "    <tr>\n",
       "      <th>2010-03-31</th>\n",
       "      <td>4.991398</td>\n",
       "      <td>75.493280</td>\n",
       "      <td>3</td>\n",
       "      <td>2</td>\n",
       "    </tr>\n",
       "    <tr>\n",
       "      <th>2010-04-30</th>\n",
       "      <td>9.473333</td>\n",
       "      <td>64.016667</td>\n",
       "      <td>4</td>\n",
       "      <td>2</td>\n",
       "    </tr>\n",
       "    <tr>\n",
       "      <th>2010-05-31</th>\n",
       "      <td>10.425134</td>\n",
       "      <td>79.571237</td>\n",
       "      <td>5</td>\n",
       "      <td>2</td>\n",
       "    </tr>\n",
       "  </tbody>\n",
       "</table>\n",
       "</div>"
      ],
      "text/plain": [
       "                 Temp       Humi  month  season\n",
       "datetime                                       \n",
       "2010-01-31  -3.879973  86.928763      1       1\n",
       "2010-02-28  -0.284673  82.645833      2       1\n",
       "2010-03-31   4.991398  75.493280      3       2\n",
       "2010-04-30   9.473333  64.016667      4       2\n",
       "2010-05-31  10.425134  79.571237      5       2"
      ]
     },
     "execution_count": 23,
     "metadata": {},
     "output_type": "execute_result"
    }
   ],
   "source": [
    "#Infer target season \n",
    "#German Seasons\n",
    "#SeasonID; Season Name; Month\n",
    "#2; Spring; March, April, May\n",
    "#3; Summer; June, July, August\n",
    "#4; Autumn; September, October, November\n",
    "#1; Winter; December, January, February\n",
    "#spring = range(3, 5)\n",
    "#summer = range(6, 8)\n",
    "#fall = range(9, 11)\n",
    "def season(month):\n",
    "    if month not in range(1,13):\n",
    "        return np.NaN\n",
    "        #raise Exception('month must be integer value in interval [1...12] inclusive. The value of x was: {}'.format(month))\n",
    "    return (month%12 + 3)//3\n",
    "\n",
    "# if we use the month as a feature, it should be trivial to predict season from month\n",
    "df['month'] = df.index.month\n",
    "\n",
    "# target variable: \n",
    "df['season'] = df.index.to_series().apply(lambda m : season(m.month))\n",
    "df.head()"
   ]
  },
  {
   "cell_type": "code",
   "execution_count": 24,
   "metadata": {},
   "outputs": [
    {
     "data": {
      "text/html": [
       "<div>\n",
       "<style scoped>\n",
       "    .dataframe tbody tr th:only-of-type {\n",
       "        vertical-align: middle;\n",
       "    }\n",
       "\n",
       "    .dataframe tbody tr th {\n",
       "        vertical-align: top;\n",
       "    }\n",
       "\n",
       "    .dataframe thead th {\n",
       "        text-align: right;\n",
       "    }\n",
       "</style>\n",
       "<table border=\"1\" class=\"dataframe\">\n",
       "  <thead>\n",
       "    <tr style=\"text-align: right;\">\n",
       "      <th></th>\n",
       "      <th>Temp</th>\n",
       "      <th>Humi</th>\n",
       "      <th>month</th>\n",
       "      <th>season</th>\n",
       "    </tr>\n",
       "    <tr>\n",
       "      <th>datetime</th>\n",
       "      <th></th>\n",
       "      <th></th>\n",
       "      <th></th>\n",
       "      <th></th>\n",
       "    </tr>\n",
       "  </thead>\n",
       "  <tbody>\n",
       "    <tr>\n",
       "      <th>2014-05-31</th>\n",
       "      <td>12.784812</td>\n",
       "      <td>76.481183</td>\n",
       "      <td>5</td>\n",
       "      <td>2</td>\n",
       "    </tr>\n",
       "    <tr>\n",
       "      <th>2016-02-29</th>\n",
       "      <td>3.772414</td>\n",
       "      <td>80.014368</td>\n",
       "      <td>2</td>\n",
       "      <td>1</td>\n",
       "    </tr>\n",
       "    <tr>\n",
       "      <th>2017-08-31</th>\n",
       "      <td>17.843280</td>\n",
       "      <td>74.766129</td>\n",
       "      <td>8</td>\n",
       "      <td>3</td>\n",
       "    </tr>\n",
       "    <tr>\n",
       "      <th>2010-07-31</th>\n",
       "      <td>21.364785</td>\n",
       "      <td>63.053763</td>\n",
       "      <td>7</td>\n",
       "      <td>3</td>\n",
       "    </tr>\n",
       "    <tr>\n",
       "      <th>2014-07-31</th>\n",
       "      <td>20.455680</td>\n",
       "      <td>70.830295</td>\n",
       "      <td>7</td>\n",
       "      <td>3</td>\n",
       "    </tr>\n",
       "  </tbody>\n",
       "</table>\n",
       "</div>"
      ],
      "text/plain": [
       "                 Temp       Humi  month  season\n",
       "datetime                                       \n",
       "2014-05-31  12.784812  76.481183      5       2\n",
       "2016-02-29   3.772414  80.014368      2       1\n",
       "2017-08-31  17.843280  74.766129      8       3\n",
       "2010-07-31  21.364785  63.053763      7       3\n",
       "2014-07-31  20.455680  70.830295      7       3"
      ]
     },
     "execution_count": 24,
     "metadata": {},
     "output_type": "execute_result"
    }
   ],
   "source": [
    "# seed the data \n",
    "seed = 25\n",
    "# shuffle the data in the dataframe\n",
    "df = shuffle(df, random_state=seed)\n",
    "df.head()"
   ]
  },
  {
   "cell_type": "code",
   "execution_count": 25,
   "metadata": {},
   "outputs": [],
   "source": [
    "# convert integers to dummy variables (i.e. one hot encoded)\n",
    "Y = to_categorical(df.season)\n",
    "#print(Y)"
   ]
  },
  {
   "cell_type": "code",
   "execution_count": 29,
   "metadata": {},
   "outputs": [
    {
     "name": "stdout",
     "output_type": "stream",
     "text": [
      "[0. 0. 0. 0. 0. 1. 0. 0. 0. 0. 0. 0. 0.]\n"
     ]
    }
   ],
   "source": [
    "X = np_utils.to_categorical(df.month)\n",
    "print(X[0])"
   ]
  },
  {
   "cell_type": "code",
   "execution_count": 30,
   "metadata": {},
   "outputs": [
    {
     "name": "stdout",
     "output_type": "stream",
     "text": [
      "[[0. 1. 0. 0. 0.]]\n"
     ]
    }
   ],
   "source": [
    "clf = RandomForestClassifier(n_estimators=200, random_state=0)\n",
    "clf.fit(X, Y)\n",
    "print(clf.predict([[0, 0, 0, 0, 0, 0, 0, 0, 0, 0, 0, 0, 1]]))"
   ]
  },
  {
   "cell_type": "code",
   "execution_count": 26,
   "metadata": {},
   "outputs": [],
   "source": [
    "# evaluate the model\n",
    "kfold = KFold(n_splits=10, shuffle=True, random_state=seed)"
   ]
  },
  {
   "cell_type": "code",
   "execution_count": 73,
   "metadata": {},
   "outputs": [
    {
     "name": "stdout",
     "output_type": "stream",
     "text": [
      "Baseline: 100.00% (0.00%)\n"
     ]
    }
   ],
   "source": [
    "results = cross_val_score(clf, X, Y, cv=kfold)\n",
    "print(\"Baseline: %.2f%% (%.2f%%)\" % (results.mean()*100, results.std()*100))"
   ]
  },
  {
   "cell_type": "code",
   "execution_count": 27,
   "metadata": {},
   "outputs": [
    {
     "name": "stdout",
     "output_type": "stream",
     "text": [
      "Baseline: 86.33% (8.17%)\n"
     ]
    }
   ],
   "source": [
    "from sklearn.preprocessing import StandardScaler  \n",
    "scaler = StandardScaler()  \n",
    "\n",
    "df = df.dropna(axis=0)\n",
    "X = df[['Temp','Humi']]\n",
    "scaler.fit(X)  \n",
    "X_train = scaler.transform(X)  \n",
    "Y = np_utils.to_categorical(df.season)\n",
    "\n",
    "clf = RandomForestClassifier(n_estimators=30,  random_state=0)\n",
    "clf.fit(X, Y)\n",
    "\n",
    "results = cross_val_score(clf, X_train, Y, cv=kfold)\n",
    "print(\"Baseline: %.2f%% (%.2f%%)\" % (results.mean()*100, results.std()*100))"
   ]
  }
 ],
 "metadata": {
  "kernelspec": {
   "display_name": "iot-htsensor",
   "language": "python",
   "name": "iot-htsensor-env"
  },
  "language_info": {
   "codemirror_mode": {
    "name": "ipython",
    "version": 3
   },
   "file_extension": ".py",
   "mimetype": "text/x-python",
   "name": "python",
   "nbconvert_exporter": "python",
   "pygments_lexer": "ipython3",
   "version": "3.6.4"
  },
  "varInspector": {
   "cols": {
    "lenName": 16,
    "lenType": 16,
    "lenVar": 40
   },
   "kernels_config": {
    "python": {
     "delete_cmd_postfix": "",
     "delete_cmd_prefix": "del ",
     "library": "var_list.py",
     "varRefreshCmd": "print(var_dic_list())"
    },
    "r": {
     "delete_cmd_postfix": ") ",
     "delete_cmd_prefix": "rm(",
     "library": "var_list.r",
     "varRefreshCmd": "cat(var_dic_list()) "
    }
   },
   "types_to_exclude": [
    "module",
    "function",
    "builtin_function_or_method",
    "instance",
    "_Feature"
   ],
   "window_display": false
  }
 },
 "nbformat": 4,
 "nbformat_minor": 2
}
