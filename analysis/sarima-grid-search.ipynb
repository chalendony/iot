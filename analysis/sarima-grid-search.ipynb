{
 "cells": [
  {
   "cell_type": "markdown",
   "metadata": {},
   "source": [
    "# Grid Search SARIMA"
   ]
  },
  {
   "cell_type": "code",
   "execution_count": 1,
   "metadata": {},
   "outputs": [],
   "source": [
    "%config IPCompleter.greedy=True\n",
    "%matplotlib inline  \n",
    "\n",
    "import pandas as pd\n",
    "import numpy as np\n",
    "from numpy import array\n",
    "import datetime\n",
    "import statsmodels.api as sm  \n",
    "import matplotlib.pyplot as plt\n",
    "import itertools\n",
    "\n",
    "from scripts.data import deutsches_wetter_dienst\n",
    "from scripts.grid import grid_search"
   ]
  },
  {
   "cell_type": "markdown",
   "metadata": {},
   "source": [
    "## Load Official Weather Data Observations\n",
    "\n",
    "readings every hour"
   ]
  },
  {
   "cell_type": "code",
   "execution_count": 3,
   "metadata": {},
   "outputs": [
    {
     "data": {
      "text/html": [
       "<div>\n",
       "<style scoped>\n",
       "    .dataframe tbody tr th:only-of-type {\n",
       "        vertical-align: middle;\n",
       "    }\n",
       "\n",
       "    .dataframe tbody tr th {\n",
       "        vertical-align: top;\n",
       "    }\n",
       "\n",
       "    .dataframe thead th {\n",
       "        text-align: right;\n",
       "    }\n",
       "</style>\n",
       "<table border=\"1\" class=\"dataframe\">\n",
       "  <thead>\n",
       "    <tr style=\"text-align: right;\">\n",
       "      <th></th>\n",
       "      <th>D_Temp</th>\n",
       "      <th>D_Humi</th>\n",
       "    </tr>\n",
       "    <tr>\n",
       "      <th>datetime</th>\n",
       "      <th></th>\n",
       "      <th></th>\n",
       "    </tr>\n",
       "  </thead>\n",
       "  <tbody>\n",
       "    <tr>\n",
       "      <th>2013-01-01 00:00:00</th>\n",
       "      <td>8.4</td>\n",
       "      <td>70.0</td>\n",
       "    </tr>\n",
       "    <tr>\n",
       "      <th>2013-01-01 01:00:00</th>\n",
       "      <td>8.4</td>\n",
       "      <td>70.0</td>\n",
       "    </tr>\n",
       "    <tr>\n",
       "      <th>2013-01-01 02:00:00</th>\n",
       "      <td>8.4</td>\n",
       "      <td>69.0</td>\n",
       "    </tr>\n",
       "    <tr>\n",
       "      <th>2013-01-01 03:00:00</th>\n",
       "      <td>8.7</td>\n",
       "      <td>68.0</td>\n",
       "    </tr>\n",
       "    <tr>\n",
       "      <th>2013-01-01 04:00:00</th>\n",
       "      <td>8.5</td>\n",
       "      <td>69.0</td>\n",
       "    </tr>\n",
       "  </tbody>\n",
       "</table>\n",
       "</div>"
      ],
      "text/plain": [
       "                     D_Temp  D_Humi\n",
       "datetime                           \n",
       "2013-01-01 00:00:00     8.4    70.0\n",
       "2013-01-01 01:00:00     8.4    70.0\n",
       "2013-01-01 02:00:00     8.4    69.0\n",
       "2013-01-01 03:00:00     8.7    68.0\n",
       "2013-01-01 04:00:00     8.5    69.0"
      ]
     },
     "execution_count": 3,
     "metadata": {},
     "output_type": "execute_result"
    }
   ],
   "source": [
    "df = deutsches_wetter_dienst(2013, 2016, '/Users/stewarta/Documents/DATA/htsensor/produkt_tu_stunde_19510101_20171231_00662.txt')\n",
    "df.head()"
   ]
  },
  {
   "cell_type": "code",
   "execution_count": 4,
   "metadata": {},
   "outputs": [
    {
     "data": {
      "text/html": [
       "<div>\n",
       "<style scoped>\n",
       "    .dataframe tbody tr th:only-of-type {\n",
       "        vertical-align: middle;\n",
       "    }\n",
       "\n",
       "    .dataframe tbody tr th {\n",
       "        vertical-align: top;\n",
       "    }\n",
       "\n",
       "    .dataframe thead th {\n",
       "        text-align: right;\n",
       "    }\n",
       "</style>\n",
       "<table border=\"1\" class=\"dataframe\">\n",
       "  <thead>\n",
       "    <tr style=\"text-align: right;\">\n",
       "      <th></th>\n",
       "      <th>D_Temp</th>\n",
       "      <th>D_Humi</th>\n",
       "    </tr>\n",
       "    <tr>\n",
       "      <th>datetime</th>\n",
       "      <th></th>\n",
       "      <th></th>\n",
       "    </tr>\n",
       "  </thead>\n",
       "  <tbody>\n",
       "    <tr>\n",
       "      <th>2013-01-01</th>\n",
       "      <td>8.4</td>\n",
       "      <td>70.0</td>\n",
       "    </tr>\n",
       "    <tr>\n",
       "      <th>2013-01-02</th>\n",
       "      <td>3.9</td>\n",
       "      <td>85.0</td>\n",
       "    </tr>\n",
       "    <tr>\n",
       "      <th>2013-01-03</th>\n",
       "      <td>5.9</td>\n",
       "      <td>78.0</td>\n",
       "    </tr>\n",
       "    <tr>\n",
       "      <th>2013-01-04</th>\n",
       "      <td>8.8</td>\n",
       "      <td>90.0</td>\n",
       "    </tr>\n",
       "    <tr>\n",
       "      <th>2013-01-05</th>\n",
       "      <td>8.6</td>\n",
       "      <td>94.0</td>\n",
       "    </tr>\n",
       "  </tbody>\n",
       "</table>\n",
       "</div>"
      ],
      "text/plain": [
       "            D_Temp  D_Humi\n",
       "datetime                  \n",
       "2013-01-01     8.4    70.0\n",
       "2013-01-02     3.9    85.0\n",
       "2013-01-03     5.9    78.0\n",
       "2013-01-04     8.8    90.0\n",
       "2013-01-05     8.6    94.0"
      ]
     },
     "execution_count": 4,
     "metadata": {},
     "output_type": "execute_result"
    }
   ],
   "source": [
    "# compute daily average : fill in nans created during resampling with the nearest value\n",
    "timestep = 'D'\n",
    "df = df.resample(timestep).nearest()\n",
    "df.head()"
   ]
  },
  {
   "cell_type": "code",
   "execution_count": 7,
   "metadata": {},
   "outputs": [
    {
     "data": {
      "text/plain": [
       "<matplotlib.axes._subplots.AxesSubplot at 0x126ffcb00>"
      ]
     },
     "execution_count": 7,
     "metadata": {},
     "output_type": "execute_result"
    },
    {
     "data": {
      "image/png": "[encoded data removed]",
      "text/plain": [
       "<Figure size 432x288 with 1 Axes>"
      ]
     },
     "metadata": {
      "needs_background": "light"
     },
     "output_type": "display_data"
    }
   ],
   "source": [
    "# select single variable for building model\n",
    "sensor = 'D_Temp'\n",
    "df[sensor].plot()"
   ]
  },
  {
   "cell_type": "markdown",
   "metadata": {},
   "source": [
    "## Seasonal Data\n",
    "\n",
    "The data contains cycles so lets model it using SARIMA"
   ]
  },
  {
   "cell_type": "markdown",
   "metadata": {},
   "source": [
    "## SARIMA Hyperparameters and Parsimony Principle\n",
    "\n",
    "SARIMA model, SARIMA(p,d,q)(P,D,Q)[m] has hyperparameters that control the nature of the model performed for the series, trend and seasonality, they are:\n",
    "\n",
    "* order: A tuple p, d, and q parameters for the modeling of the trend.\n",
    "* sesonal_order: A tuple of P, D, Q, and m parameters for the modeling the seasonality\n",
    "\n",
    "We can select these hyperparameters in two ways: \n",
    "\n",
    "* Automatically with Grid Search\n",
    "* Manually with ACF / PACF Plots"
   ]
  },
  {
   "cell_type": "markdown",
   "metadata": {},
   "source": [
    "Selecing Hyperparameters Manually \n",
    "\n",
    "Rules for SARIMA model selection from ACF/PACF plots\n",
    "These are all rule of thumbs, not an exact science for picking the number of each parameters in SARIMA(p,d,q)(P,D,Q)[S]. It is an art in picking good parameters from the ACF/PACF plots. The following rules also apply to ARMA and ARIMA models.\n",
    "\n",
    "Identifying the order of differencing:\n",
    "\n",
    "d=0 if the series has no visible trend or ACF at all lags is low.\n",
    "\n",
    "d≥1 if the series has visible trend or positive ACF values out to a high number of lags.\n",
    "\n",
    "Note: if after applying differencing to the series and the ACF at lag 1 is -0.5 or more negative the series may be overdifferenced.\n",
    "\n",
    "Note: If you find the best d to be d=1 then the original series has a constant trend. A model with d=2 assumes that the original series has a time-varying trend.\n",
    "\n",
    "Identifying the number of AR and MA terms\n",
    "p is equal to the first lag where the PACF value is above the significance level.\n",
    "\n",
    "q is equal to the first lag where the ACF value is above the significance level.\n",
    "\n",
    "Identifying the seasonal part of the model:\n",
    "\n",
    "S is equal to the ACF lag with the highest value (typically at a high lag).\n",
    "\n",
    "D=1 if the series has a stable seasonal pattern over time.\n",
    "\n",
    "D=0 if the series has an unstable seasonal pattern over time.\n",
    "\n",
    "Rule of thumb: d+D≤2\n",
    "\n",
    "P≥1 if the ACF is positive at lag S, else P=0.\n",
    "\n",
    "Q≥1 if the ACF is negative at lag S, else Q=0.\n",
    "\n",
    "Rule of thumb: P+Q≤2\n",
    "\n",
    "https://www.datasciencecentral.com/profiles/blogs/tutorial-forecasting-with-seasonal-arima"
   ]
  },
  {
   "cell_type": "markdown",
   "metadata": {},
   "source": [
    "## Using Grid Search to Automatically Select\n",
    "\n",
    "Grid search is used to help us select hyperparameters. In a grid search, we train and evaluate a model on all possible configurations of the hyperparameters. If you have many models to build automating the hyperparameter selection will save time.\n",
    "\n",
    "However, depending on computing resources, grid search make take a while when if your search space is large. \n",
    "\n",
    "Rules of thumb exist to help constrain the value of the hyperparameter and avoid  building overly complex models. One rule for SARIMA is the Parsimony Principle in which sum of hyperparameter values: p+d+q+P+D+Q ≤ 6. "
   ]
  },
  {
   "cell_type": "code",
   "execution_count": 21,
   "metadata": {},
   "outputs": [],
   "source": [
    "def sarima_configs(seasonal=[12]):\n",
    "    models = list()\n",
    "    # define config lists\n",
    "    p = [0, 1]\n",
    "    d = [0]\n",
    "    q = [0, 1]\n",
    "    t = ['c','n']\n",
    "    P = [0, 1]\n",
    "    D = [0]\n",
    "    Q = [0, 1]\n",
    "    m = seasonal   \n",
    "    non_seasonal = itertools.product(p, d, q)\n",
    "    seasonal = itertools.product(P, D, Q, m)\n",
    "    result = []\n",
    "    for tup in itertools.product(non_seasonal, seasonal, t):\n",
    "        result.append(list(tup))\n",
    "    return result           "
   ]
  },
  {
   "cell_type": "code",
   "execution_count": 39,
   "metadata": {},
   "outputs": [
    {
     "name": "stdout",
     "output_type": "stream",
     "text": [
      "The number of SARIMA hyperparameter configurations is: 32\n"
     ]
    }
   ],
   "source": [
    "configs = sarima_configs()\n",
    "print('The number of SARIMA hyperparameter configurations is: {}'.format(len(configs)))"
   ]
  },
  {
   "cell_type": "markdown",
   "metadata": {},
   "source": [
    "## Training and Hyperparameter Evaluation\n",
    "Use subset of the data for training and the last 'lookahead' elements of the the training set for  hyperparameter evaluation.\n",
    "\n",
    "Each configuration of the hyperparameter is evaluated using 'lookahead' steps beyond original training set.  We incrementally train a model and  make a forecast for a timestep that is one time step ahead. \n",
    "\n",
    "After a timestep is used to evaluate a prediction it is incorporated into the training set. Performance is recored for each hyperparameter configuration for each lookahead and the best performing configuration is used for building the final model.\n"
   ]
  },
  {
   "cell_type": "code",
   "execution_count": 50,
   "metadata": {},
   "outputs": [],
   "source": [
    "data = np.array(df[sensor])\n",
    "print('The number of observations are: ' + len(data))\n",
    "\n",
    "minidx = df.index.get_loc('2013-01-01')\n",
    "maxidx = df.index.get_loc('2014-01-15')\n",
    "lookahead_validation = 20\n",
    "trainval = data[minidx:maxidx] "
   ]
  },
  {
   "cell_type": "code",
   "execution_count": 17,
   "metadata": {},
   "outputs": [
    {
     "name": "stdout",
     "output_type": "stream",
     "text": [
      " > Model[[(0, 0, 0), (0, 0, 0, 12), 'c']] 3.595\n",
      " > Model[[(0, 0, 1), (0, 0, 0, 12), 'c']] 2.942\n",
      " > Model[[(0, 0, 0), (1, 0, 0, 12), 'c']] 3.524\n",
      " > Model[[(0, 0, 0), (0, 0, 1, 12), 'c']] 3.729\n",
      " > Model[[(0, 0, 0), (1, 0, 1, 12), 'c']] 3.143\n",
      " > Model[[(0, 0, 1), (1, 0, 0, 12), 'c']] 3.084\n",
      " > Model[[(0, 0, 1), (0, 0, 1, 12), 'c']] 3.038\n",
      " > Model[[(1, 0, 0), (0, 0, 0, 12), 'c']] 3.557\n",
      " > Model[[(1, 0, 0), (0, 0, 1, 12), 'c']] 3.586\n",
      " > Model[[(1, 0, 0), (1, 0, 0, 12), 'c']] 3.586\n",
      " > Model[[(0, 0, 1), (1, 0, 1, 12), 'c']] 2.778\n",
      " > Model[[(1, 0, 1), (0, 0, 0, 12), 'c']] 3.446\n",
      " > Model[[(1, 0, 0), (1, 0, 1, 12), 'c']] 3.576\n",
      " > Model[[(1, 0, 1), (0, 0, 1, 12), 'c']] 3.454\n",
      " > Model[[(1, 0, 1), (1, 0, 0, 12), 'c']] 3.455\n",
      " > Model[[(1, 0, 1), (1, 0, 1, 12), 'c']] 3.452\n",
      "done\n",
      "[(0, 0, 1), (1, 0, 1, 12), 'c'] 2.7784562436352265\n",
      "[(0, 0, 1), (0, 0, 0, 12), 'c'] 2.941626357120193\n",
      "[(0, 0, 1), (0, 0, 1, 12), 'c'] 3.0381449315261757\n"
     ]
    }
   ],
   "source": [
    "# grid search\n",
    "scores = grid_search(trainval, configs, n_validation)\n",
    "print('done')\n",
    "# list top 3 configs\n",
    "for cfg, error in scores[:3]:\n",
    "    print(cfg, error)"
   ]
  },
  {
   "cell_type": "markdown",
   "metadata": {},
   "source": [
    "# Build Model and Predict"
   ]
  },
  {
   "cell_type": "code",
   "execution_count": 51,
   "metadata": {},
   "outputs": [],
   "source": [
    "mindate = '2013-01-01'\n",
    "maxdate = '2014-01-15'\n",
    "\n",
    "sarima = sm.tsa.statespace.SARIMAX(df['D_Temp'].loc[mindate:maxdate],trend='c', order=(0,0,1), seasonal_order=(1,0,1,12) )\n",
    "model = sarima.fit(disp=True)"
   ]
  },
  {
   "cell_type": "code",
   "execution_count": 52,
   "metadata": {},
   "outputs": [],
   "source": [
    "lookahead_prediction = 10\n",
    "forecast = model.forecast(lookahead_prediction)"
   ]
  },
  {
   "cell_type": "code",
   "execution_count": 53,
   "metadata": {},
   "outputs": [
    {
     "data": {
      "text/plain": [
       "2014-01-16    1.821146\n",
       "2014-01-17    5.479348\n",
       "2014-01-18    5.859853\n",
       "2014-01-19    7.444588\n",
       "2014-01-20    7.232000\n",
       "2014-01-21    6.561005\n",
       "2014-01-22    6.290505\n",
       "2014-01-23    4.957075\n",
       "2014-01-24    5.122824\n",
       "2014-01-25    2.482651\n",
       "Freq: D, dtype: float64"
      ]
     },
     "execution_count": 53,
     "metadata": {},
     "output_type": "execute_result"
    }
   ],
   "source": [
    "forecast"
   ]
  },
  {
   "cell_type": "code",
   "execution_count": 54,
   "metadata": {},
   "outputs": [
    {
     "data": {
      "text/plain": [
       "[<matplotlib.lines.Line2D at 0x12418f4a8>]"
      ]
     },
     "execution_count": 54,
     "metadata": {},
     "output_type": "execute_result"
    },
    {
     "data": {
      "image/png": "[encoded data removed]",
      "text/plain": [
       "<Figure size 720x360 with 1 Axes>"
      ]
     },
     "metadata": {
      "needs_background": "light"
     },
     "output_type": "display_data"
    }
   ],
   "source": [
    "plt.figure(figsize= (10,5))\n",
    "plt.plot(forecast, 'r')\n",
    "plt.plot(df['D_Temp'].loc[mindate:maxdate], 'b')\n",
    "#plt.title('RMSE')"
   ]
  },
  {
   "cell_type": "markdown",
   "metadata": {},
   "source": [
    "Picking good parameters Manually from the ACF/PACF plots\n",
    "Also, optimal results obtained with grid search may not be the best and should be compared with manual hyperparameter selection."
   ]
  },
  {
   "cell_type": "code",
   "execution_count": null,
   "metadata": {},
   "outputs": [],
   "source": [
    "It is an art in picking good parameters from the ACF/PACF plots"
   ]
  }
 ],
 "metadata": {
  "kernelspec": {
   "display_name": "iot-htsensor",
   "language": "python",
   "name": "iot-htsensor-env"
  },
  "language_info": {
   "codemirror_mode": {
    "name": "ipython",
    "version": 3
   },
   "file_extension": ".py",
   "mimetype": "text/x-python",
   "name": "python",
   "nbconvert_exporter": "python",
   "pygments_lexer": "ipython3",
   "version": "3.6.4"
  },
  "varInspector": {
   "cols": {
    "lenName": 16,
    "lenType": 16,
    "lenVar": 40
   },
   "kernels_config": {
    "python": {
     "delete_cmd_postfix": "",
     "delete_cmd_prefix": "del ",
     "library": "var_list.py",
     "varRefreshCmd": "print(var_dic_list())"
    },
    "r": {
     "delete_cmd_postfix": ") ",
     "delete_cmd_prefix": "rm(",
     "library": "var_list.r",
     "varRefreshCmd": "cat(var_dic_list()) "
    }
   },
   "types_to_exclude": [
    "module",
    "function",
    "builtin_function_or_method",
    "instance",
    "_Feature"
   ],
   "window_display": false
  }
 },
 "nbformat": 4,
 "nbformat_minor": 2
}
