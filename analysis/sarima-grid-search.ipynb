{
 "cells": [
  {
   "cell_type": "markdown",
   "metadata": {},
   "source": [
    "# Forcasting Using Seasonal ARIMA (SARIMA) \n",
    "\n",
    "Time series forecasting is the use of a model to predict future values based on previously observed values. "
   ]
  },
  {
   "cell_type": "code",
   "execution_count": 23,
   "metadata": {},
   "outputs": [],
   "source": [
    "%config IPCompleter.greedy=True\n",
    "%matplotlib inline  \n",
    "\n",
    "import pandas as pd\n",
    "import numpy as np\n",
    "from numpy import array\n",
    "import datetime\n",
    "import statsmodels.api as sm  \n",
    "import matplotlib.pyplot as plt\n",
    "import itertools\n",
    "\n",
    "from statsmodels.graphics.tsaplots import plot_acf, plot_pacf\n",
    "\n",
    "from scripts.data import deutsches_wetterdienst\n",
    "from scripts.grid import grid_search"
   ]
  },
  {
   "cell_type": "markdown",
   "metadata": {},
   "source": [
    "## Load Official Weather Data Observations\n",
    "\n",
    "readings every hour"
   ]
  },
  {
   "cell_type": "code",
   "execution_count": 24,
   "metadata": {},
   "outputs": [
    {
     "data": {
      "text/html": [
       "<div>\n",
       "<style scoped>\n",
       "    .dataframe tbody tr th:only-of-type {\n",
       "        vertical-align: middle;\n",
       "    }\n",
       "\n",
       "    .dataframe tbody tr th {\n",
       "        vertical-align: top;\n",
       "    }\n",
       "\n",
       "    .dataframe thead th {\n",
       "        text-align: right;\n",
       "    }\n",
       "</style>\n",
       "<table border=\"1\" class=\"dataframe\">\n",
       "  <thead>\n",
       "    <tr style=\"text-align: right;\">\n",
       "      <th></th>\n",
       "      <th>Temp</th>\n",
       "      <th>Humi</th>\n",
       "    </tr>\n",
       "    <tr>\n",
       "      <th>datetime</th>\n",
       "      <th></th>\n",
       "      <th></th>\n",
       "    </tr>\n",
       "  </thead>\n",
       "  <tbody>\n",
       "    <tr>\n",
       "      <th>2010-01-01 00:00:00</th>\n",
       "      <td>-1.8</td>\n",
       "      <td>89.0</td>\n",
       "    </tr>\n",
       "    <tr>\n",
       "      <th>2010-01-01 01:00:00</th>\n",
       "      <td>-1.8</td>\n",
       "      <td>88.0</td>\n",
       "    </tr>\n",
       "    <tr>\n",
       "      <th>2010-01-01 02:00:00</th>\n",
       "      <td>-1.8</td>\n",
       "      <td>89.0</td>\n",
       "    </tr>\n",
       "    <tr>\n",
       "      <th>2010-01-01 03:00:00</th>\n",
       "      <td>-1.8</td>\n",
       "      <td>88.0</td>\n",
       "    </tr>\n",
       "    <tr>\n",
       "      <th>2010-01-01 04:00:00</th>\n",
       "      <td>-2.1</td>\n",
       "      <td>91.0</td>\n",
       "    </tr>\n",
       "  </tbody>\n",
       "</table>\n",
       "</div>"
      ],
      "text/plain": [
       "                     Temp  Humi\n",
       "datetime                       \n",
       "2010-01-01 00:00:00  -1.8  89.0\n",
       "2010-01-01 01:00:00  -1.8  88.0\n",
       "2010-01-01 02:00:00  -1.8  89.0\n",
       "2010-01-01 03:00:00  -1.8  88.0\n",
       "2010-01-01 04:00:00  -2.1  91.0"
      ]
     },
     "execution_count": 24,
     "metadata": {},
     "output_type": "execute_result"
    }
   ],
   "source": [
    "df = deutsches_wetterdienst('/Users/stewarta/Documents/DATA/htsensor/produkt_tu_stunde_19510101_20171231_00662.txt', start=2010, end=2016)\n",
    "df.head()"
   ]
  },
  {
   "cell_type": "code",
   "execution_count": 26,
   "metadata": {},
   "outputs": [
    {
     "data": {
      "text/html": [
       "<div>\n",
       "<style scoped>\n",
       "    .dataframe tbody tr th:only-of-type {\n",
       "        vertical-align: middle;\n",
       "    }\n",
       "\n",
       "    .dataframe tbody tr th {\n",
       "        vertical-align: top;\n",
       "    }\n",
       "\n",
       "    .dataframe thead th {\n",
       "        text-align: right;\n",
       "    }\n",
       "</style>\n",
       "<table border=\"1\" class=\"dataframe\">\n",
       "  <thead>\n",
       "    <tr style=\"text-align: right;\">\n",
       "      <th></th>\n",
       "      <th>Temp</th>\n",
       "      <th>Humi</th>\n",
       "    </tr>\n",
       "    <tr>\n",
       "      <th>datetime</th>\n",
       "      <th></th>\n",
       "      <th></th>\n",
       "    </tr>\n",
       "  </thead>\n",
       "  <tbody>\n",
       "    <tr>\n",
       "      <th>2010-01-31</th>\n",
       "      <td>-3.879973</td>\n",
       "      <td>86.928763</td>\n",
       "    </tr>\n",
       "    <tr>\n",
       "      <th>2010-02-28</th>\n",
       "      <td>-0.284673</td>\n",
       "      <td>82.645833</td>\n",
       "    </tr>\n",
       "    <tr>\n",
       "      <th>2010-03-31</th>\n",
       "      <td>4.991398</td>\n",
       "      <td>75.493280</td>\n",
       "    </tr>\n",
       "    <tr>\n",
       "      <th>2010-04-30</th>\n",
       "      <td>9.473333</td>\n",
       "      <td>64.016667</td>\n",
       "    </tr>\n",
       "    <tr>\n",
       "      <th>2010-05-31</th>\n",
       "      <td>10.425134</td>\n",
       "      <td>79.571237</td>\n",
       "    </tr>\n",
       "  </tbody>\n",
       "</table>\n",
       "</div>"
      ],
      "text/plain": [
       "                 Temp       Humi\n",
       "datetime                        \n",
       "2010-01-31  -3.879973  86.928763\n",
       "2010-02-28  -0.284673  82.645833\n",
       "2010-03-31   4.991398  75.493280\n",
       "2010-04-30   9.473333  64.016667\n",
       "2010-05-31  10.425134  79.571237"
      ]
     },
     "execution_count": 26,
     "metadata": {},
     "output_type": "execute_result"
    }
   ],
   "source": [
    "# compute daily average : fill in nans created during resampling with the nearest value\n",
    "timestep = 'M'\n",
    "df = df.resample(timestep).mean().ffill()\n",
    "df.head()"
   ]
  },
  {
   "cell_type": "code",
   "execution_count": 25,
   "metadata": {},
   "outputs": [
    {
     "data": {
      "text/plain": [
       "<matplotlib.axes._subplots.AxesSubplot at 0x11d951550>"
      ]
     },
     "execution_count": 25,
     "metadata": {},
     "output_type": "execute_result"
    },
    {
     "data": {
      "image/png": "[encoded data removed]",
      "text/plain": [
       "<Figure size 432x288 with 1 Axes>"
      ]
     },
     "metadata": {
      "needs_background": "light"
     },
     "output_type": "display_data"
    }
   ],
   "source": [
    "# select single variable for building model\n",
    "sensor = 'Temp'\n",
    "df[sensor].plot()"
   ]
  },
  {
   "cell_type": "markdown",
   "metadata": {},
   "source": [
    "## SARIMA Hyperparameters\n",
    "\n",
    "The data contains cycles so lets model it using SARIMA\n",
    "\n",
    "SARIMA model, SARIMA(p,d,q)(P,D,Q)[m] has hyperparameters that control the nature of the model performed for the series, trend and seasonality, they are:\n",
    "\n",
    "* order: (p,d,q) A tuple p, d, and q parameters for the modeling of the trend.\n",
    "* sesonal_order: (P,D,Q)[m] A tuple of P, D, Q, and m parameters for the modeling the seasonality\n",
    "\n",
    "We can select these hyperparameters in two ways: \n",
    "\n",
    "* Automated Hyperparameter Selection using Grid Search\n",
    "* Manual Hyperparameter Selection using ACF / PACF Plots"
   ]
  },
  {
   "cell_type": "markdown",
   "metadata": {},
   "source": [
    "## Automated Hyperparameter Selection using Grid Search\n",
    "\n",
    "Grid search is used to help us select hyperparameters. In a grid search, we train and evaluate a model on all possible configurations of the hyperparameters. If you have many models to build automating the hyperparameter selection will save time.\n",
    "\n",
    "However, depending on computing resources, grid search make take a while when if your search space is large. \n",
    "\n",
    "\n",
    "### Parsimony Principle\n",
    "\n",
    "Rules of thumb exist to help constrain the value of the hyperparameter and avoid  building overly complex models. One rule for SARIMA is the Parsimony Principle in which sum of hyperparameter values: p+d+q+P+D+Q ≤ 6. "
   ]
  },
  {
   "cell_type": "code",
   "execution_count": 6,
   "metadata": {},
   "outputs": [
    {
     "name": "stdout",
     "output_type": "stream",
     "text": [
      "The number of SARIMA hyperparameter configurations is: 64\n"
     ]
    }
   ],
   "source": [
    "def sarima_configs(seasonal=[12]):\n",
    "    models = list()\n",
    "    # define config lists\n",
    "    p = [0, 1]\n",
    "    d = [0]\n",
    "    q = [0, 1]\n",
    "    t = ['c','n']\n",
    "    P = [0, 1]\n",
    "    D = [0, 1]\n",
    "    Q = [0, 1]\n",
    "    m = seasonal   \n",
    "    \n",
    "    # create combinations of the hyperparameters\n",
    "    non_seasonal = itertools.product(p, d, q)\n",
    "    seasonal = itertools.product(P, D, Q, m)\n",
    "    result = []\n",
    "    for tup in itertools.product(non_seasonal, seasonal, t):\n",
    "        result.append(list(tup))\n",
    "    return result           \n",
    "\n",
    "configs = sarima_configs()\n",
    "print('The number of SARIMA hyperparameter configurations is: {}'.format(len(configs)))"
   ]
  },
  {
   "cell_type": "markdown",
   "metadata": {},
   "source": [
    "## Grid Search \n",
    "Use subset of the data for training and the last 'lookahead' elements of the the training set for  hyperparameter evaluation.\n",
    "\n",
    "Each configuration of the hyperparameter is evaluated using 'lookahead' steps beyond original training set.  We incrementally train a model and  make a forecast for a timestep that is one time step ahead. \n",
    "\n",
    "After a timestep is used to evaluate a prediction it is incorporated into the training set. Performance is recored for each hyperparameter configuration for each lookahead and the best performing configuration is used for building the final model."
   ]
  },
  {
   "cell_type": "code",
   "execution_count": 6,
   "metadata": {},
   "outputs": [
    {
     "name": "stdout",
     "output_type": "stream",
     "text": [
      "The number of observations are: 1461 \n"
     ]
    },
    {
     "ename": "NameError",
     "evalue": "name 'configs' is not defined",
     "output_type": "error",
     "traceback": [
      "\u001b[0;31m---------------------------------------------------------------------------\u001b[0m",
      "\u001b[0;31mNameError\u001b[0m                                 Traceback (most recent call last)",
      "\u001b[0;32m<ipython-input-6-45573b9db3b2>\u001b[0m in \u001b[0;36m<module>\u001b[0;34m\u001b[0m\n\u001b[1;32m     11\u001b[0m \u001b[0;34m\u001b[0m\u001b[0m\n\u001b[1;32m     12\u001b[0m \u001b[0;31m# perform grid search\u001b[0m\u001b[0;34m\u001b[0m\u001b[0;34m\u001b[0m\u001b[0m\n\u001b[0;32m---> 13\u001b[0;31m \u001b[0mscores\u001b[0m \u001b[0;34m=\u001b[0m \u001b[0mgrid_search\u001b[0m\u001b[0;34m(\u001b[0m\u001b[0mtrainval\u001b[0m\u001b[0;34m,\u001b[0m \u001b[0mconfigs\u001b[0m\u001b[0;34m,\u001b[0m \u001b[0mlookahead_validation\u001b[0m\u001b[0;34m)\u001b[0m\u001b[0;34m\u001b[0m\u001b[0m\n\u001b[0m\u001b[1;32m     14\u001b[0m \u001b[0mprint\u001b[0m\u001b[0;34m(\u001b[0m\u001b[0;34m'done'\u001b[0m\u001b[0;34m)\u001b[0m\u001b[0;34m\u001b[0m\u001b[0m\n\u001b[1;32m     15\u001b[0m \u001b[0;34m\u001b[0m\u001b[0m\n",
      "\u001b[0;31mNameError\u001b[0m: name 'configs' is not defined"
     ]
    }
   ],
   "source": [
    "# NOTE: Peforming Grid Search may take a while to run, depending the number of parameters\n",
    "\n",
    "## prepare data for grid search\n",
    "data = np.array(df[sensor])\n",
    "print('The number of observations are: {} '.format(len(data)))\n",
    "\n",
    "minidx = df.index.get_loc('2014-01-01')\n",
    "maxidx = df.index.get_loc('2015-03-15')\n",
    "lookahead_validation = 20\n",
    "trainval = data[minidx:maxidx] \n",
    "\n",
    "# perform grid search\n",
    "scores = grid_search(trainval, configs, lookahead_validation)\n",
    "print('done')\n",
    "\n",
    "# list top 3 hyperparameter configs\n",
    "for cfg, error in scores[:3]:\n",
    "    print(cfg, error)"
   ]
  },
  {
   "cell_type": "markdown",
   "metadata": {},
   "source": [
    "# Train a SARIMA Model\n",
    "\n",
    "Once you have selected your hyperparameters, you can set the arguments for the SARIMAX and build a model.\n",
    "\n",
    "Let's build a model using the hyperparameters below on a subset of the data."
   ]
  },
  {
   "cell_type": "code",
   "execution_count": 32,
   "metadata": {},
   "outputs": [
    {
     "name": "stderr",
     "output_type": "stream",
     "text": [
      "/Users/stewarta/repos/iot-htsensor/iot-htsensor-env/lib/python3.6/site-packages/statsmodels/base/model.py:508: ConvergenceWarning: Maximum Likelihood optimization failed to converge. Check mle_retvals\n",
      "  \"Check mle_retvals\", ConvergenceWarning)\n"
     ]
    }
   ],
   "source": [
    "# data subset boundaries\n",
    "mindate = '2010-01-31'\n",
    "maxdate = '2016-01-01'\n",
    "\n",
    "# create a subset for training \n",
    "traindata = df['Temp'].loc[mindate:maxdate]\n",
    "\n",
    "# build the model\n",
    "sarima = sm.tsa.statespace.SARIMAX(traindata,trend='c', order=(0,0,1), seasonal_order=(1,0,1,6) )\n",
    "model = sarima.fit(disp=True)"
   ]
  },
  {
   "cell_type": "markdown",
   "metadata": {},
   "source": [
    "## Forecast Future Values\n",
    "\n",
    "We can make multistep forecast using the predict() function.\n",
    "\n",
    "predict(): In-sample prediction and out-of-sample forecasting"
   ]
  },
  {
   "cell_type": "code",
   "execution_count": 33,
   "metadata": {},
   "outputs": [
    {
     "name": "stdout",
     "output_type": "stream",
     "text": [
      "The predictions are:\n"
     ]
    },
    {
     "data": {
      "text/html": [
       "<div>\n",
       "<style scoped>\n",
       "    .dataframe tbody tr th:only-of-type {\n",
       "        vertical-align: middle;\n",
       "    }\n",
       "\n",
       "    .dataframe tbody tr th {\n",
       "        vertical-align: top;\n",
       "    }\n",
       "\n",
       "    .dataframe thead th {\n",
       "        text-align: right;\n",
       "    }\n",
       "</style>\n",
       "<table border=\"1\" class=\"dataframe\">\n",
       "  <thead>\n",
       "    <tr style=\"text-align: right;\">\n",
       "      <th></th>\n",
       "      <th>Prediction</th>\n",
       "    </tr>\n",
       "  </thead>\n",
       "  <tbody>\n",
       "    <tr>\n",
       "      <th>2016-02-29</th>\n",
       "      <td>1.687836</td>\n",
       "    </tr>\n",
       "    <tr>\n",
       "      <th>2016-03-31</th>\n",
       "      <td>5.485231</td>\n",
       "    </tr>\n",
       "    <tr>\n",
       "      <th>2016-04-30</th>\n",
       "      <td>9.501499</td>\n",
       "    </tr>\n",
       "    <tr>\n",
       "      <th>2016-05-31</th>\n",
       "      <td>12.572542</td>\n",
       "    </tr>\n",
       "    <tr>\n",
       "      <th>2016-06-30</th>\n",
       "      <td>15.046152</td>\n",
       "    </tr>\n",
       "    <tr>\n",
       "      <th>2016-07-31</th>\n",
       "      <td>18.152830</td>\n",
       "    </tr>\n",
       "    <tr>\n",
       "      <th>2016-08-31</th>\n",
       "      <td>17.898726</td>\n",
       "    </tr>\n",
       "    <tr>\n",
       "      <th>2016-09-30</th>\n",
       "      <td>14.115846</td>\n",
       "    </tr>\n",
       "    <tr>\n",
       "      <th>2016-10-31</th>\n",
       "      <td>10.114929</td>\n",
       "    </tr>\n",
       "    <tr>\n",
       "      <th>2016-11-30</th>\n",
       "      <td>7.055625</td>\n",
       "    </tr>\n",
       "    <tr>\n",
       "      <th>2016-12-31</th>\n",
       "      <td>4.591469</td>\n",
       "    </tr>\n",
       "    <tr>\n",
       "      <th>2017-01-31</th>\n",
       "      <td>1.496666</td>\n",
       "    </tr>\n",
       "    <tr>\n",
       "      <th>2017-02-28</th>\n",
       "      <td>1.749798</td>\n",
       "    </tr>\n",
       "    <tr>\n",
       "      <th>2017-03-31</th>\n",
       "      <td>5.518219</td>\n",
       "    </tr>\n",
       "    <tr>\n",
       "      <th>2017-04-30</th>\n",
       "      <td>9.503844</td>\n",
       "    </tr>\n",
       "    <tr>\n",
       "      <th>2017-05-31</th>\n",
       "      <td>12.551455</td>\n",
       "    </tr>\n",
       "    <tr>\n",
       "      <th>2017-06-30</th>\n",
       "      <td>15.006192</td>\n",
       "    </tr>\n",
       "    <tr>\n",
       "      <th>2017-07-31</th>\n",
       "      <td>18.089166</td>\n",
       "    </tr>\n",
       "    <tr>\n",
       "      <th>2017-08-31</th>\n",
       "      <td>17.837001</td>\n",
       "    </tr>\n",
       "    <tr>\n",
       "      <th>2017-09-30</th>\n",
       "      <td>14.082984</td>\n",
       "    </tr>\n",
       "  </tbody>\n",
       "</table>\n",
       "</div>"
      ],
      "text/plain": [
       "            Prediction\n",
       "2016-02-29    1.687836\n",
       "2016-03-31    5.485231\n",
       "2016-04-30    9.501499\n",
       "2016-05-31   12.572542\n",
       "2016-06-30   15.046152\n",
       "2016-07-31   18.152830\n",
       "2016-08-31   17.898726\n",
       "2016-09-30   14.115846\n",
       "2016-10-31   10.114929\n",
       "2016-11-30    7.055625\n",
       "2016-12-31    4.591469\n",
       "2017-01-31    1.496666\n",
       "2017-02-28    1.749798\n",
       "2017-03-31    5.518219\n",
       "2017-04-30    9.503844\n",
       "2017-05-31   12.551455\n",
       "2017-06-30   15.006192\n",
       "2017-07-31   18.089166\n",
       "2017-08-31   17.837001\n",
       "2017-09-30   14.082984"
      ]
     },
     "execution_count": 33,
     "metadata": {},
     "output_type": "execute_result"
    }
   ],
   "source": [
    "# Making a Prediction\n",
    "\n",
    "# find location last idx of training data\n",
    "idx = len(traindata)\n",
    "predictions = model.predict(start=idx+1, end=idx + 20) \n",
    "\n",
    "# create dataframe of predictions. \n",
    "df_predictions = pd.DataFrame(predictions, columns=['Prediction'])\n",
    "print('The predictions are:')\n",
    "df_predictions"
   ]
  },
  {
   "cell_type": "markdown",
   "metadata": {},
   "source": [
    "# Prediction Results"
   ]
  },
  {
   "cell_type": "code",
   "execution_count": 36,
   "metadata": {},
   "outputs": [
    {
     "data": {
      "text/html": [
       "<div>\n",
       "<style scoped>\n",
       "    .dataframe tbody tr th:only-of-type {\n",
       "        vertical-align: middle;\n",
       "    }\n",
       "\n",
       "    .dataframe tbody tr th {\n",
       "        vertical-align: top;\n",
       "    }\n",
       "\n",
       "    .dataframe thead th {\n",
       "        text-align: right;\n",
       "    }\n",
       "</style>\n",
       "<table border=\"1\" class=\"dataframe\">\n",
       "  <thead>\n",
       "    <tr style=\"text-align: right;\">\n",
       "      <th></th>\n",
       "      <th>Temp</th>\n",
       "      <th>Humi</th>\n",
       "      <th>Prediction</th>\n",
       "    </tr>\n",
       "    <tr>\n",
       "      <th>datetime</th>\n",
       "      <th></th>\n",
       "      <th></th>\n",
       "      <th></th>\n",
       "    </tr>\n",
       "  </thead>\n",
       "  <tbody>\n",
       "    <tr>\n",
       "      <th>2010-01-31</th>\n",
       "      <td>-3.879973</td>\n",
       "      <td>86.928763</td>\n",
       "      <td>NaN</td>\n",
       "    </tr>\n",
       "    <tr>\n",
       "      <th>2010-02-28</th>\n",
       "      <td>-0.284673</td>\n",
       "      <td>82.645833</td>\n",
       "      <td>NaN</td>\n",
       "    </tr>\n",
       "    <tr>\n",
       "      <th>2010-03-31</th>\n",
       "      <td>4.991398</td>\n",
       "      <td>75.493280</td>\n",
       "      <td>NaN</td>\n",
       "    </tr>\n",
       "    <tr>\n",
       "      <th>2010-04-30</th>\n",
       "      <td>9.473333</td>\n",
       "      <td>64.016667</td>\n",
       "      <td>NaN</td>\n",
       "    </tr>\n",
       "    <tr>\n",
       "      <th>2010-05-31</th>\n",
       "      <td>10.425134</td>\n",
       "      <td>79.571237</td>\n",
       "      <td>NaN</td>\n",
       "    </tr>\n",
       "  </tbody>\n",
       "</table>\n",
       "</div>"
      ],
      "text/plain": [
       "                 Temp       Humi  Prediction\n",
       "datetime                                    \n",
       "2010-01-31  -3.879973  86.928763         NaN\n",
       "2010-02-28  -0.284673  82.645833         NaN\n",
       "2010-03-31   4.991398  75.493280         NaN\n",
       "2010-04-30   9.473333  64.016667         NaN\n",
       "2010-05-31  10.425134  79.571237         NaN"
      ]
     },
     "execution_count": 36,
     "metadata": {},
     "output_type": "execute_result"
    }
   ],
   "source": [
    "df['Prediction'] = pd.DataFrame(df_predictions)\n",
    "df.head()"
   ]
  },
  {
   "cell_type": "code",
   "execution_count": 39,
   "metadata": {},
   "outputs": [
    {
     "data": {
      "text/plain": [
       "<matplotlib.axes._subplots.AxesSubplot at 0x11f001a90>"
      ]
     },
     "execution_count": 39,
     "metadata": {},
     "output_type": "execute_result"
    },
    {
     "data": {
      "image/png": "[encoded data removed]",
      "text/plain": [
       "<Figure size 864x576 with 1 Axes>"
      ]
     },
     "metadata": {
      "needs_background": "light"
     },
     "output_type": "display_data"
    }
   ],
   "source": [
    "df.loc[:'2016-07-29'][['Temp','Prediction']].plot(figsize=(12, 8)) "
   ]
  },
  {
   "cell_type": "markdown",
   "metadata": {},
   "source": [
    "## Correlograms: ACF & PACF Plots\n",
    "\n",
    "Verify, optimal results obtained with grid search by comparing with manual hyperparameter selection.\n",
    "\n",
    "Picking  parameters manually using ACF/PACF plots. Art and experience required in picking good parameters from the ACF/PACF plots\n",
    "\n",
    "Correlation is... Autocorrelation analysis to examine serial dependence\n",
    "\n",
    "Autocorrelation is... \n",
    "\n",
    "PACF is .... \n",
    "\n",
    "https://www.datasciencecentral.com/profiles/blogs/tutorial-forecasting-with-seasonal-arima"
   ]
  },
  {
   "cell_type": "code",
   "execution_count": 30,
   "metadata": {},
   "outputs": [
    {
     "data": {
      "image/png": "[encoded data removed]",
      "text/plain": [
       "<Figure size 432x288 with 1 Axes>"
      ]
     },
     "metadata": {
      "needs_background": "light"
     },
     "output_type": "display_data"
    }
   ],
   "source": [
    "plot_acf(df.Temp, lags=20)\n",
    "plt.show()\n",
    "# ACF:  p is equal to the first lag where the PACF value is above the significance level.\n",
    "# PACF: q is equal to the first lag where the ACF value is above the significance level."
   ]
  },
  {
   "cell_type": "code",
   "execution_count": 31,
   "metadata": {},
   "outputs": [
    {
     "data": {
      "image/png": "[encoded data removed]",
      "text/plain": [
       "<Figure size 432x288 with 1 Axes>"
      ]
     },
     "metadata": {
      "needs_background": "light"
     },
     "output_type": "display_data"
    }
   ],
   "source": [
    "plot_pacf(df.Temp, lags=20)\n",
    "plt.show()\n",
    "# PACF: setting the value of q: 1 ,\n",
    "\n",
    "# several lags beyond the critical boundary"
   ]
  },
  {
   "cell_type": "markdown",
   "metadata": {},
   "source": [
    "## Manual hyperparameter selection using ACF / PACF Plots\n",
    "\n",
    "\n",
    "\n",
    "Rules for SARIMA model selection from ACF/PACF plots\n",
    "These are all rule of thumbs, not an exact science for picking the number of each parameters in SARIMA(p,d,q)(P,D,Q)[S]. It is an art in picking good parameters from the ACF/PACF plots. The following rules also apply to ARMA and ARIMA models.\n",
    "\n",
    "Identifying the order of differencing:\n",
    "\n",
    "d=0 if the series has no visible trend or ACF at all lags is low.\n",
    "\n",
    "d≥1 if the series has visible trend or positive ACF values out to a high number of lags.\n",
    "\n",
    "Note: if after applying differencing to the series and the ACF at lag 1 is -0.5 or more negative the series may be overdifferenced.\n",
    "\n",
    "Note: If you find the best d to be d=1 then the original series has a constant trend. A model with d=2 assumes that the original series has a time-varying trend.\n",
    "\n",
    "Identifying the number of AR and MA terms\n",
    "p is equal to the first lag where the PACF value is above the significance level.\n",
    "\n",
    "q is equal to the first lag where the ACF value is above the significance level.\n",
    "\n",
    "Identifying the seasonal part of the model:\n",
    "\n",
    "S is equal to the ACF lag with the highest value (typically at a high lag).\n",
    "\n",
    "D=1 if the series has a stable seasonal pattern over time.\n",
    "\n",
    "D=0 if the series has an unstable seasonal pattern over time.\n",
    "\n",
    "Rule of thumb: d+D≤2\n",
    "\n",
    "P≥1 if the ACF is positive at lag S, else P=0.\n",
    "\n",
    "Q≥1 if the ACF is negative at lag S, else Q=0.\n",
    "\n",
    "Rule of thumb: P+Q≤2\n",
    "\n",
    "https://www.datasciencecentral.com/profiles/blogs/tutorial-forecasting-with-seasonal-arima"
   ]
  }
 ],
 "metadata": {
  "kernelspec": {
   "display_name": "iot-htsensor",
   "language": "python",
   "name": "iot-htsensor-env"
  },
  "language_info": {
   "codemirror_mode": {
    "name": "ipython",
    "version": 3
   },
   "file_extension": ".py",
   "mimetype": "text/x-python",
   "name": "python",
   "nbconvert_exporter": "python",
   "pygments_lexer": "ipython3",
   "version": "3.6.4"
  },
  "varInspector": {
   "cols": {
    "lenName": 16,
    "lenType": 16,
    "lenVar": 40
   },
   "kernels_config": {
    "python": {
     "delete_cmd_postfix": "",
     "delete_cmd_prefix": "del ",
     "library": "var_list.py",
     "varRefreshCmd": "print(var_dic_list())"
    },
    "r": {
     "delete_cmd_postfix": ") ",
     "delete_cmd_prefix": "rm(",
     "library": "var_list.r",
     "varRefreshCmd": "cat(var_dic_list()) "
    }
   },
   "types_to_exclude": [
    "module",
    "function",
    "builtin_function_or_method",
    "instance",
    "_Feature"
   ],
   "window_display": false
  }
 },
 "nbformat": 4,
 "nbformat_minor": 2
}
