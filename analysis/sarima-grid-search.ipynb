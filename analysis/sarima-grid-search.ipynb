{
 "cells": [
  {
   "cell_type": "markdown",
   "metadata": {},
   "source": [
    "# Forcasting Using Seasonal ARIMA (SARIMA) \n",
    "\n",
    "Time series forecasting is the use of a model to predict future values based on previously observed values. "
   ]
  },
  {
   "cell_type": "code",
   "execution_count": 29,
   "metadata": {},
   "outputs": [],
   "source": [
    "%config IPCompleter.greedy=True\n",
    "%matplotlib inline  \n",
    "\n",
    "import pandas as pd\n",
    "import numpy as np\n",
    "from numpy import array\n",
    "import datetime\n",
    "import statsmodels.api as sm  \n",
    "import matplotlib.pyplot as plt\n",
    "import itertools\n",
    "\n",
    "from statsmodels.graphics.tsaplots import plot_acf, plot_pacf\n",
    "\n",
    "from scripts.data import deutsches_wetterdienst\n",
    "from scripts.grid import grid_search"
   ]
  },
  {
   "cell_type": "markdown",
   "metadata": {},
   "source": [
    "## Load Official Weather Data Observations\n",
    "\n",
    "readings every hour"
   ]
  },
  {
   "cell_type": "code",
   "execution_count": 2,
   "metadata": {},
   "outputs": [
    {
     "data": {
      "text/html": [
       "<div>\n",
       "<style scoped>\n",
       "    .dataframe tbody tr th:only-of-type {\n",
       "        vertical-align: middle;\n",
       "    }\n",
       "\n",
       "    .dataframe tbody tr th {\n",
       "        vertical-align: top;\n",
       "    }\n",
       "\n",
       "    .dataframe thead th {\n",
       "        text-align: right;\n",
       "    }\n",
       "</style>\n",
       "<table border=\"1\" class=\"dataframe\">\n",
       "  <thead>\n",
       "    <tr style=\"text-align: right;\">\n",
       "      <th></th>\n",
       "      <th>Temp</th>\n",
       "      <th>Humi</th>\n",
       "    </tr>\n",
       "    <tr>\n",
       "      <th>datetime</th>\n",
       "      <th></th>\n",
       "      <th></th>\n",
       "    </tr>\n",
       "  </thead>\n",
       "  <tbody>\n",
       "    <tr>\n",
       "      <th>2013-01-01 00:00:00</th>\n",
       "      <td>8.4</td>\n",
       "      <td>70.0</td>\n",
       "    </tr>\n",
       "    <tr>\n",
       "      <th>2013-01-01 01:00:00</th>\n",
       "      <td>8.4</td>\n",
       "      <td>70.0</td>\n",
       "    </tr>\n",
       "    <tr>\n",
       "      <th>2013-01-01 02:00:00</th>\n",
       "      <td>8.4</td>\n",
       "      <td>69.0</td>\n",
       "    </tr>\n",
       "    <tr>\n",
       "      <th>2013-01-01 03:00:00</th>\n",
       "      <td>8.7</td>\n",
       "      <td>68.0</td>\n",
       "    </tr>\n",
       "    <tr>\n",
       "      <th>2013-01-01 04:00:00</th>\n",
       "      <td>8.5</td>\n",
       "      <td>69.0</td>\n",
       "    </tr>\n",
       "  </tbody>\n",
       "</table>\n",
       "</div>"
      ],
      "text/plain": [
       "                     Temp  Humi\n",
       "datetime                       \n",
       "2013-01-01 00:00:00   8.4  70.0\n",
       "2013-01-01 01:00:00   8.4  70.0\n",
       "2013-01-01 02:00:00   8.4  69.0\n",
       "2013-01-01 03:00:00   8.7  68.0\n",
       "2013-01-01 04:00:00   8.5  69.0"
      ]
     },
     "execution_count": 2,
     "metadata": {},
     "output_type": "execute_result"
    }
   ],
   "source": [
    "df = deutsches_wetterdienst('/Users/stewarta/Documents/DATA/htsensor/produkt_tu_stunde_19510101_20171231_00662.txt')\n",
    "df.head()"
   ]
  },
  {
   "cell_type": "code",
   "execution_count": 4,
   "metadata": {},
   "outputs": [
    {
     "data": {
      "text/html": [
       "<div>\n",
       "<style scoped>\n",
       "    .dataframe tbody tr th:only-of-type {\n",
       "        vertical-align: middle;\n",
       "    }\n",
       "\n",
       "    .dataframe tbody tr th {\n",
       "        vertical-align: top;\n",
       "    }\n",
       "\n",
       "    .dataframe thead th {\n",
       "        text-align: right;\n",
       "    }\n",
       "</style>\n",
       "<table border=\"1\" class=\"dataframe\">\n",
       "  <thead>\n",
       "    <tr style=\"text-align: right;\">\n",
       "      <th></th>\n",
       "      <th>Temp</th>\n",
       "      <th>Humi</th>\n",
       "    </tr>\n",
       "    <tr>\n",
       "      <th>datetime</th>\n",
       "      <th></th>\n",
       "      <th></th>\n",
       "    </tr>\n",
       "  </thead>\n",
       "  <tbody>\n",
       "    <tr>\n",
       "      <th>2013-01-31</th>\n",
       "      <td>0.627957</td>\n",
       "      <td>88.754032</td>\n",
       "    </tr>\n",
       "    <tr>\n",
       "      <th>2013-02-28</th>\n",
       "      <td>0.075149</td>\n",
       "      <td>88.358631</td>\n",
       "    </tr>\n",
       "    <tr>\n",
       "      <th>2013-03-31</th>\n",
       "      <td>-0.523118</td>\n",
       "      <td>78.118280</td>\n",
       "    </tr>\n",
       "    <tr>\n",
       "      <th>2013-04-30</th>\n",
       "      <td>8.630972</td>\n",
       "      <td>69.386111</td>\n",
       "    </tr>\n",
       "    <tr>\n",
       "      <th>2013-05-31</th>\n",
       "      <td>12.421505</td>\n",
       "      <td>78.838710</td>\n",
       "    </tr>\n",
       "  </tbody>\n",
       "</table>\n",
       "</div>"
      ],
      "text/plain": [
       "                 Temp       Humi\n",
       "datetime                        \n",
       "2013-01-31   0.627957  88.754032\n",
       "2013-02-28   0.075149  88.358631\n",
       "2013-03-31  -0.523118  78.118280\n",
       "2013-04-30   8.630972  69.386111\n",
       "2013-05-31  12.421505  78.838710"
      ]
     },
     "execution_count": 4,
     "metadata": {},
     "output_type": "execute_result"
    }
   ],
   "source": [
    "# compute daily average : fill in nans created during resampling with the nearest value\n",
    "timestep = 'M'\n",
    "df = df.resample(timestep).mean().ffill()\n",
    "df.head()"
   ]
  },
  {
   "cell_type": "code",
   "execution_count": 5,
   "metadata": {},
   "outputs": [
    {
     "data": {
      "text/plain": [
       "<matplotlib.axes._subplots.AxesSubplot at 0x119dcc978>"
      ]
     },
     "execution_count": 5,
     "metadata": {},
     "output_type": "execute_result"
    },
    {
     "data": {
      "image/png": "[encoded data removed]",
      "text/plain": [
       "<Figure size 432x288 with 1 Axes>"
      ]
     },
     "metadata": {
      "needs_background": "light"
     },
     "output_type": "display_data"
    }
   ],
   "source": [
    "# select single variable for building model\n",
    "sensor = 'Temp'\n",
    "df[sensor].plot()"
   ]
  },
  {
   "cell_type": "markdown",
   "metadata": {},
   "source": [
    "## SARIMA Hyperparameters\n",
    "\n",
    "The data contains cycles so lets model it using SARIMA\n",
    "\n",
    "SARIMA model, SARIMA(p,d,q)(P,D,Q)[m] has hyperparameters that control the nature of the model performed for the series, trend and seasonality, they are:\n",
    "\n",
    "* order: (p,d,q) A tuple p, d, and q parameters for the modeling of the trend.\n",
    "* sesonal_order: (P,D,Q)[m] A tuple of P, D, Q, and m parameters for the modeling the seasonality\n",
    "\n",
    "We can select these hyperparameters in two ways: \n",
    "\n",
    "* Automated Hyperparameter Selection using Grid Search\n",
    "* Manual Hyperparameter Selection using ACF / PACF Plots"
   ]
  },
  {
   "cell_type": "markdown",
   "metadata": {},
   "source": [
    "## Automated Hyperparameter Selection using Grid Search\n",
    "\n",
    "Grid search is used to help us select hyperparameters. In a grid search, we train and evaluate a model on all possible configurations of the hyperparameters. If you have many models to build automating the hyperparameter selection will save time.\n",
    "\n",
    "However, depending on computing resources, grid search make take a while when if your search space is large. \n",
    "\n",
    "\n",
    "### Parsimony Principle\n",
    "\n",
    "Rules of thumb exist to help constrain the value of the hyperparameter and avoid  building overly complex models. One rule for SARIMA is the Parsimony Principle in which sum of hyperparameter values: p+d+q+P+D+Q ≤ 6. "
   ]
  },
  {
   "cell_type": "code",
   "execution_count": 6,
   "metadata": {},
   "outputs": [
    {
     "name": "stdout",
     "output_type": "stream",
     "text": [
      "The number of SARIMA hyperparameter configurations is: 64\n"
     ]
    }
   ],
   "source": [
    "def sarima_configs(seasonal=[12]):\n",
    "    models = list()\n",
    "    # define config lists\n",
    "    p = [0, 1]\n",
    "    d = [0]\n",
    "    q = [0, 1]\n",
    "    t = ['c','n']\n",
    "    P = [0, 1]\n",
    "    D = [0, 1]\n",
    "    Q = [0, 1]\n",
    "    m = seasonal   \n",
    "    \n",
    "    # create combinations of the hyperparameters\n",
    "    non_seasonal = itertools.product(p, d, q)\n",
    "    seasonal = itertools.product(P, D, Q, m)\n",
    "    result = []\n",
    "    for tup in itertools.product(non_seasonal, seasonal, t):\n",
    "        result.append(list(tup))\n",
    "    return result           \n",
    "\n",
    "configs = sarima_configs()\n",
    "print('The number of SARIMA hyperparameter configurations is: {}'.format(len(configs)))"
   ]
  },
  {
   "cell_type": "markdown",
   "metadata": {},
   "source": [
    "## Grid Search \n",
    "Use subset of the data for training and the last 'lookahead' elements of the the training set for  hyperparameter evaluation.\n",
    "\n",
    "Each configuration of the hyperparameter is evaluated using 'lookahead' steps beyond original training set.  We incrementally train a model and  make a forecast for a timestep that is one time step ahead. \n",
    "\n",
    "After a timestep is used to evaluate a prediction it is incorporated into the training set. Performance is recored for each hyperparameter configuration for each lookahead and the best performing configuration is used for building the final model."
   ]
  },
  {
   "cell_type": "code",
   "execution_count": null,
   "metadata": {},
   "outputs": [],
   "source": [
    "# NOTE: Peforming Grid Search may take a while to run, depending the number of parameters\n",
    "\n",
    "## prepare data for grid search\n",
    "data = np.array(df[sensor])\n",
    "print('The number of observations are: {} '.format(len(data)))\n",
    "\n",
    "minidx = df.index.get_loc('2013-01-01')\n",
    "maxidx = df.index.get_loc('2014-03-15')\n",
    "lookahead_validation = 20\n",
    "trainval = data[minidx:maxidx] \n",
    "\n",
    "# perform grid search\n",
    "scores = grid_search(trainval, configs, lookahead_validation)\n",
    "print('done')\n",
    "\n",
    "# list top 3 hyperparameter configs\n",
    "for cfg, error in scores[:3]:\n",
    "    print(cfg, error)"
   ]
  },
  {
   "cell_type": "markdown",
   "metadata": {},
   "source": [
    "# Train a SARIMA Model\n",
    "\n",
    "Once you have selected your hyperparameters, you can set the arguments for the SARIMAX and build a model.\n",
    "\n",
    "Let's build a model using the hyperparameters below on a subset of the data."
   ]
  },
  {
   "cell_type": "code",
   "execution_count": 44,
   "metadata": {},
   "outputs": [],
   "source": [
    "# data subset boundaries\n",
    "mindate = '2013-01-01'\n",
    "maxdate = '2014-01-15'\n",
    "\n",
    "# create a subset for training \n",
    "traindata = df['Temp'].loc[mindate:maxdate]\n",
    "\n",
    "# build the model\n",
    "sarima = sm.tsa.statespace.SARIMAX(traindata,trend='c', order=(0,0,1), seasonal_order=(1,0,1,2) )\n",
    "model = sarima.fit(disp=True)"
   ]
  },
  {
   "cell_type": "markdown",
   "metadata": {},
   "source": [
    "## Forecast Future Values\n",
    "\n",
    "We can make multistep forecast using the predict() function.\n",
    "\n",
    "predict(): In-sample prediction and out-of-sample forecasting"
   ]
  },
  {
   "cell_type": "code",
   "execution_count": 48,
   "metadata": {},
   "outputs": [
    {
     "name": "stdout",
     "output_type": "stream",
     "text": [
      "The predictions are:\n"
     ]
    },
    {
     "data": {
      "text/html": [
       "<div>\n",
       "<style scoped>\n",
       "    .dataframe tbody tr th:only-of-type {\n",
       "        vertical-align: middle;\n",
       "    }\n",
       "\n",
       "    .dataframe tbody tr th {\n",
       "        vertical-align: top;\n",
       "    }\n",
       "\n",
       "    .dataframe thead th {\n",
       "        text-align: right;\n",
       "    }\n",
       "</style>\n",
       "<table border=\"1\" class=\"dataframe\">\n",
       "  <thead>\n",
       "    <tr style=\"text-align: right;\">\n",
       "      <th></th>\n",
       "      <th>Prediction</th>\n",
       "    </tr>\n",
       "  </thead>\n",
       "  <tbody>\n",
       "    <tr>\n",
       "      <th>2013-08-31</th>\n",
       "      <td>15.648783</td>\n",
       "    </tr>\n",
       "    <tr>\n",
       "      <th>2013-09-30</th>\n",
       "      <td>16.796786</td>\n",
       "    </tr>\n",
       "    <tr>\n",
       "      <th>2013-10-31</th>\n",
       "      <td>12.458086</td>\n",
       "    </tr>\n",
       "    <tr>\n",
       "      <th>2013-11-30</th>\n",
       "      <td>8.240320</td>\n",
       "    </tr>\n",
       "    <tr>\n",
       "      <th>2013-12-31</th>\n",
       "      <td>3.429286</td>\n",
       "    </tr>\n",
       "    <tr>\n",
       "      <th>2014-01-31</th>\n",
       "      <td>5.790845</td>\n",
       "    </tr>\n",
       "    <tr>\n",
       "      <th>2014-02-28</th>\n",
       "      <td>6.916137</td>\n",
       "    </tr>\n",
       "    <tr>\n",
       "      <th>2014-03-31</th>\n",
       "      <td>9.014719</td>\n",
       "    </tr>\n",
       "    <tr>\n",
       "      <th>2014-04-30</th>\n",
       "      <td>7.922043</td>\n",
       "    </tr>\n",
       "    <tr>\n",
       "      <th>2014-05-31</th>\n",
       "      <td>8.463023</td>\n",
       "    </tr>\n",
       "    <tr>\n",
       "      <th>2014-06-30</th>\n",
       "      <td>8.181349</td>\n",
       "    </tr>\n",
       "    <tr>\n",
       "      <th>2014-07-31</th>\n",
       "      <td>8.320805</td>\n",
       "    </tr>\n",
       "    <tr>\n",
       "      <th>2014-08-31</th>\n",
       "      <td>8.248194</td>\n",
       "    </tr>\n",
       "    <tr>\n",
       "      <th>2014-09-30</th>\n",
       "      <td>8.284143</td>\n",
       "    </tr>\n",
       "    <tr>\n",
       "      <th>2014-10-31</th>\n",
       "      <td>8.265426</td>\n",
       "    </tr>\n",
       "    <tr>\n",
       "      <th>2014-11-30</th>\n",
       "      <td>8.274693</td>\n",
       "    </tr>\n",
       "    <tr>\n",
       "      <th>2014-12-31</th>\n",
       "      <td>8.269868</td>\n",
       "    </tr>\n",
       "    <tr>\n",
       "      <th>2015-01-31</th>\n",
       "      <td>8.272257</td>\n",
       "    </tr>\n",
       "    <tr>\n",
       "      <th>2015-02-28</th>\n",
       "      <td>8.271013</td>\n",
       "    </tr>\n",
       "    <tr>\n",
       "      <th>2015-03-31</th>\n",
       "      <td>8.271628</td>\n",
       "    </tr>\n",
       "    <tr>\n",
       "      <th>2015-04-30</th>\n",
       "      <td>8.271308</td>\n",
       "    </tr>\n",
       "    <tr>\n",
       "      <th>2015-05-31</th>\n",
       "      <td>8.271467</td>\n",
       "    </tr>\n",
       "    <tr>\n",
       "      <th>2015-06-30</th>\n",
       "      <td>8.271384</td>\n",
       "    </tr>\n",
       "    <tr>\n",
       "      <th>2015-07-31</th>\n",
       "      <td>8.271425</td>\n",
       "    </tr>\n",
       "    <tr>\n",
       "      <th>2015-08-31</th>\n",
       "      <td>8.271404</td>\n",
       "    </tr>\n",
       "    <tr>\n",
       "      <th>2015-09-30</th>\n",
       "      <td>8.271414</td>\n",
       "    </tr>\n",
       "  </tbody>\n",
       "</table>\n",
       "</div>"
      ],
      "text/plain": [
       "            Prediction\n",
       "2013-08-31   15.648783\n",
       "2013-09-30   16.796786\n",
       "2013-10-31   12.458086\n",
       "2013-11-30    8.240320\n",
       "2013-12-31    3.429286\n",
       "2014-01-31    5.790845\n",
       "2014-02-28    6.916137\n",
       "2014-03-31    9.014719\n",
       "2014-04-30    7.922043\n",
       "2014-05-31    8.463023\n",
       "2014-06-30    8.181349\n",
       "2014-07-31    8.320805\n",
       "2014-08-31    8.248194\n",
       "2014-09-30    8.284143\n",
       "2014-10-31    8.265426\n",
       "2014-11-30    8.274693\n",
       "2014-12-31    8.269868\n",
       "2015-01-31    8.272257\n",
       "2015-02-28    8.271013\n",
       "2015-03-31    8.271628\n",
       "2015-04-30    8.271308\n",
       "2015-05-31    8.271467\n",
       "2015-06-30    8.271384\n",
       "2015-07-31    8.271425\n",
       "2015-08-31    8.271404\n",
       "2015-09-30    8.271414"
      ]
     },
     "execution_count": 48,
     "metadata": {},
     "output_type": "execute_result"
    }
   ],
   "source": [
    "# Making a Prediction\n",
    "\n",
    "# find location last idx of training data\n",
    "idx = len(traindata)\n",
    "predictions = model.predict(start=idx-5, end=idx + 20) \n",
    "\n",
    "# create dataframe of predictions. \n",
    "df_predictions = pd.DataFrame(predictions, columns=['Prediction'])\n",
    "print('The predictions are:')\n",
    "df_predictions"
   ]
  },
  {
   "cell_type": "markdown",
   "metadata": {},
   "source": [
    "# Prediction Results"
   ]
  },
  {
   "cell_type": "code",
   "execution_count": 49,
   "metadata": {},
   "outputs": [
    {
     "data": {
      "text/html": [
       "<div>\n",
       "<style scoped>\n",
       "    .dataframe tbody tr th:only-of-type {\n",
       "        vertical-align: middle;\n",
       "    }\n",
       "\n",
       "    .dataframe tbody tr th {\n",
       "        vertical-align: top;\n",
       "    }\n",
       "\n",
       "    .dataframe thead th {\n",
       "        text-align: right;\n",
       "    }\n",
       "</style>\n",
       "<table border=\"1\" class=\"dataframe\">\n",
       "  <thead>\n",
       "    <tr style=\"text-align: right;\">\n",
       "      <th></th>\n",
       "      <th>Temp</th>\n",
       "      <th>Humi</th>\n",
       "      <th>Prediction</th>\n",
       "    </tr>\n",
       "    <tr>\n",
       "      <th>datetime</th>\n",
       "      <th></th>\n",
       "      <th></th>\n",
       "      <th></th>\n",
       "    </tr>\n",
       "  </thead>\n",
       "  <tbody>\n",
       "    <tr>\n",
       "      <th>2013-01-31</th>\n",
       "      <td>0.627957</td>\n",
       "      <td>88.754032</td>\n",
       "      <td>NaN</td>\n",
       "    </tr>\n",
       "    <tr>\n",
       "      <th>2013-02-28</th>\n",
       "      <td>0.075149</td>\n",
       "      <td>88.358631</td>\n",
       "      <td>NaN</td>\n",
       "    </tr>\n",
       "    <tr>\n",
       "      <th>2013-03-31</th>\n",
       "      <td>-0.523118</td>\n",
       "      <td>78.118280</td>\n",
       "      <td>NaN</td>\n",
       "    </tr>\n",
       "    <tr>\n",
       "      <th>2013-04-30</th>\n",
       "      <td>8.630972</td>\n",
       "      <td>69.386111</td>\n",
       "      <td>NaN</td>\n",
       "    </tr>\n",
       "    <tr>\n",
       "      <th>2013-05-31</th>\n",
       "      <td>12.421505</td>\n",
       "      <td>78.838710</td>\n",
       "      <td>NaN</td>\n",
       "    </tr>\n",
       "  </tbody>\n",
       "</table>\n",
       "</div>"
      ],
      "text/plain": [
       "                 Temp       Humi  Prediction\n",
       "datetime                                    \n",
       "2013-01-31   0.627957  88.754032         NaN\n",
       "2013-02-28   0.075149  88.358631         NaN\n",
       "2013-03-31  -0.523118  78.118280         NaN\n",
       "2013-04-30   8.630972  69.386111         NaN\n",
       "2013-05-31  12.421505  78.838710         NaN"
      ]
     },
     "execution_count": 49,
     "metadata": {},
     "output_type": "execute_result"
    }
   ],
   "source": [
    "df['Prediction'] = pd.DataFrame(df_predictions)\n",
    "df.head()"
   ]
  },
  {
   "cell_type": "code",
   "execution_count": 50,
   "metadata": {},
   "outputs": [
    {
     "data": {
      "text/plain": [
       "<matplotlib.axes._subplots.AxesSubplot at 0x11941a5c0>"
      ]
     },
     "execution_count": 50,
     "metadata": {},
     "output_type": "execute_result"
    },
    {
     "data": {
      "image/png": "[encoded data removed]",
      "text/plain": [
       "<Figure size 864x576 with 1 Axes>"
      ]
     },
     "metadata": {
      "needs_background": "light"
     },
     "output_type": "display_data"
    }
   ],
   "source": [
    "df.loc[:'2015-06-01'][['Temp','Prediction']].plot(figsize=(12, 8)) "
   ]
  },
  {
   "cell_type": "markdown",
   "metadata": {},
   "source": [
    "## Correlograms: ACF & PACF Plots\n",
    "\n",
    "Verify, optimal results obtained with grid search by comparing with manual hyperparameter selection.\n",
    "\n",
    "Picking  parameters manually using ACF/PACF plots. Art and experience required in picking good parameters from the ACF/PACF plots\n",
    "\n",
    "Correlation is... Autocorrelation analysis to examine serial dependence\n",
    "\n",
    "Autocorrelation is... \n",
    "\n",
    "PACF is .... \n",
    "\n",
    "https://www.datasciencecentral.com/profiles/blogs/tutorial-forecasting-with-seasonal-arima"
   ]
  },
  {
   "cell_type": "code",
   "execution_count": 30,
   "metadata": {},
   "outputs": [
    {
     "data": {
      "image/png": "[encoded data removed]",
      "text/plain": [
       "<Figure size 432x288 with 1 Axes>"
      ]
     },
     "metadata": {
      "needs_background": "light"
     },
     "output_type": "display_data"
    }
   ],
   "source": [
    "plot_acf(df.Temp, lags=20)\n",
    "plt.show()\n",
    "# ACF:  p is equal to the first lag where the PACF value is above the significance level.\n",
    "# PACF: q is equal to the first lag where the ACF value is above the significance level."
   ]
  },
  {
   "cell_type": "code",
   "execution_count": 31,
   "metadata": {},
   "outputs": [
    {
     "data": {
      "image/png": "[encoded data removed]",
      "text/plain": [
       "<Figure size 432x288 with 1 Axes>"
      ]
     },
     "metadata": {
      "needs_background": "light"
     },
     "output_type": "display_data"
    }
   ],
   "source": [
    "plot_pacf(df.Temp, lags=20)\n",
    "plt.show()\n",
    "# PACF: setting the value of q: 1 ,\n",
    "\n",
    "# several lags beyond the critical boundary"
   ]
  },
  {
   "cell_type": "markdown",
   "metadata": {},
   "source": [
    "## Manual hyperparameter selection using ACF / PACF Plots\n",
    "\n",
    "\n",
    "\n",
    "Rules for SARIMA model selection from ACF/PACF plots\n",
    "These are all rule of thumbs, not an exact science for picking the number of each parameters in SARIMA(p,d,q)(P,D,Q)[S]. It is an art in picking good parameters from the ACF/PACF plots. The following rules also apply to ARMA and ARIMA models.\n",
    "\n",
    "Identifying the order of differencing:\n",
    "\n",
    "d=0 if the series has no visible trend or ACF at all lags is low.\n",
    "\n",
    "d≥1 if the series has visible trend or positive ACF values out to a high number of lags.\n",
    "\n",
    "Note: if after applying differencing to the series and the ACF at lag 1 is -0.5 or more negative the series may be overdifferenced.\n",
    "\n",
    "Note: If you find the best d to be d=1 then the original series has a constant trend. A model with d=2 assumes that the original series has a time-varying trend.\n",
    "\n",
    "Identifying the number of AR and MA terms\n",
    "p is equal to the first lag where the PACF value is above the significance level.\n",
    "\n",
    "q is equal to the first lag where the ACF value is above the significance level.\n",
    "\n",
    "Identifying the seasonal part of the model:\n",
    "\n",
    "S is equal to the ACF lag with the highest value (typically at a high lag).\n",
    "\n",
    "D=1 if the series has a stable seasonal pattern over time.\n",
    "\n",
    "D=0 if the series has an unstable seasonal pattern over time.\n",
    "\n",
    "Rule of thumb: d+D≤2\n",
    "\n",
    "P≥1 if the ACF is positive at lag S, else P=0.\n",
    "\n",
    "Q≥1 if the ACF is negative at lag S, else Q=0.\n",
    "\n",
    "Rule of thumb: P+Q≤2\n",
    "\n",
    "https://www.datasciencecentral.com/profiles/blogs/tutorial-forecasting-with-seasonal-arima"
   ]
  }
 ],
 "metadata": {
  "kernelspec": {
   "display_name": "iot-htsensor",
   "language": "python",
   "name": "iot-htsensor-env"
  },
  "language_info": {
   "codemirror_mode": {
    "name": "ipython",
    "version": 3
   },
   "file_extension": ".py",
   "mimetype": "text/x-python",
   "name": "python",
   "nbconvert_exporter": "python",
   "pygments_lexer": "ipython3",
   "version": "3.6.4"
  },
  "varInspector": {
   "cols": {
    "lenName": 16,
    "lenType": 16,
    "lenVar": 40
   },
   "kernels_config": {
    "python": {
     "delete_cmd_postfix": "",
     "delete_cmd_prefix": "del ",
     "library": "var_list.py",
     "varRefreshCmd": "print(var_dic_list())"
    },
    "r": {
     "delete_cmd_postfix": ") ",
     "delete_cmd_prefix": "rm(",
     "library": "var_list.r",
     "varRefreshCmd": "cat(var_dic_list()) "
    }
   },
   "types_to_exclude": [
    "module",
    "function",
    "builtin_function_or_method",
    "instance",
    "_Feature"
   ],
   "window_display": false
  }
 },
 "nbformat": 4,
 "nbformat_minor": 2
}
